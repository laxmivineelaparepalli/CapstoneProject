{
  "cells": [
    {
      "cell_type": "markdown",
      "metadata": {
        "id": "view-in-github",
        "colab_type": "text"
      },
      "source": [
        "<a href=\"https://colab.research.google.com/github/laxmivineelaparepalli/CapstoneProject/blob/main/UnbiasedMind_Identifying_and_Eliminating_Bias_in_ML_Models.ipynb\" target=\"_parent\"><img src=\"https://colab.research.google.com/assets/colab-badge.svg\" alt=\"Open In Colab\"/></a>"
      ]
    },
    {
      "cell_type": "markdown",
      "metadata": {
        "id": "diUDpQ4tvR7R"
      },
      "source": [
        "## This notebook demonstrates how to remove the bias using AI 360 fairness toolkit by adjusting the weights"
      ]
    },
    {
      "cell_type": "code",
      "source": [
        "!pip install aif360\n",
        "!pip install Pipeline_LabelEncoder-0.1.zip\n",
        "!pip install fairlearn"
      ],
      "metadata": {
        "colab": {
          "base_uri": "https://localhost:8080/"
        },
        "id": "H2wzL-rztfgu",
        "outputId": "f74585c4-20c2-4d60-b53d-3135ae91ab26"
      },
      "execution_count": null,
      "outputs": [
        {
          "output_type": "stream",
          "name": "stdout",
          "text": [
            "Collecting aif360\n",
            "  Downloading aif360-0.6.1-py3-none-any.whl.metadata (5.0 kB)\n",
            "Requirement already satisfied: numpy>=1.16 in /usr/local/lib/python3.10/dist-packages (from aif360) (1.26.4)\n",
            "Requirement already satisfied: scipy>=1.2.0 in /usr/local/lib/python3.10/dist-packages (from aif360) (1.13.1)\n",
            "Requirement already satisfied: pandas>=0.24.0 in /usr/local/lib/python3.10/dist-packages (from aif360) (2.1.4)\n",
            "Requirement already satisfied: scikit-learn>=1.0 in /usr/local/lib/python3.10/dist-packages (from aif360) (1.3.2)\n",
            "Requirement already satisfied: matplotlib in /usr/local/lib/python3.10/dist-packages (from aif360) (3.7.1)\n",
            "Requirement already satisfied: python-dateutil>=2.8.2 in /usr/local/lib/python3.10/dist-packages (from pandas>=0.24.0->aif360) (2.8.2)\n",
            "Requirement already satisfied: pytz>=2020.1 in /usr/local/lib/python3.10/dist-packages (from pandas>=0.24.0->aif360) (2024.1)\n",
            "Requirement already satisfied: tzdata>=2022.1 in /usr/local/lib/python3.10/dist-packages (from pandas>=0.24.0->aif360) (2024.1)\n",
            "Requirement already satisfied: joblib>=1.1.1 in /usr/local/lib/python3.10/dist-packages (from scikit-learn>=1.0->aif360) (1.4.2)\n",
            "Requirement already satisfied: threadpoolctl>=2.0.0 in /usr/local/lib/python3.10/dist-packages (from scikit-learn>=1.0->aif360) (3.5.0)\n",
            "Requirement already satisfied: contourpy>=1.0.1 in /usr/local/lib/python3.10/dist-packages (from matplotlib->aif360) (1.2.1)\n",
            "Requirement already satisfied: cycler>=0.10 in /usr/local/lib/python3.10/dist-packages (from matplotlib->aif360) (0.12.1)\n",
            "Requirement already satisfied: fonttools>=4.22.0 in /usr/local/lib/python3.10/dist-packages (from matplotlib->aif360) (4.53.1)\n",
            "Requirement already satisfied: kiwisolver>=1.0.1 in /usr/local/lib/python3.10/dist-packages (from matplotlib->aif360) (1.4.5)\n",
            "Requirement already satisfied: packaging>=20.0 in /usr/local/lib/python3.10/dist-packages (from matplotlib->aif360) (24.1)\n",
            "Requirement already satisfied: pillow>=6.2.0 in /usr/local/lib/python3.10/dist-packages (from matplotlib->aif360) (9.4.0)\n",
            "Requirement already satisfied: pyparsing>=2.3.1 in /usr/local/lib/python3.10/dist-packages (from matplotlib->aif360) (3.1.2)\n",
            "Requirement already satisfied: six>=1.5 in /usr/local/lib/python3.10/dist-packages (from python-dateutil>=2.8.2->pandas>=0.24.0->aif360) (1.16.0)\n",
            "Downloading aif360-0.6.1-py3-none-any.whl (259 kB)\n",
            "\u001b[2K   \u001b[90m━━━━━━━━━━━━━━━━━━━━━━━━━━━━━━━━━━━━━━━━\u001b[0m \u001b[32m259.7/259.7 kB\u001b[0m \u001b[31m6.4 MB/s\u001b[0m eta \u001b[36m0:00:00\u001b[0m\n",
            "\u001b[?25hInstalling collected packages: aif360\n",
            "Successfully installed aif360-0.6.1\n",
            "\u001b[33mWARNING: Requirement 'Pipeline_LabelEncoder-0.1.zip' looks like a filename, but the file does not exist\u001b[0m\u001b[33m\n",
            "\u001b[0mProcessing ./Pipeline_LabelEncoder-0.1.zip\n",
            "\u001b[31mERROR: Could not install packages due to an OSError: [Errno 2] No such file or directory: '/content/Pipeline_LabelEncoder-0.1.zip'\n",
            "\u001b[0m\u001b[31m\n",
            "\u001b[0mCollecting fairlearn\n",
            "  Downloading fairlearn-0.10.0-py3-none-any.whl.metadata (7.0 kB)\n",
            "Requirement already satisfied: numpy>=1.24.4 in /usr/local/lib/python3.10/dist-packages (from fairlearn) (1.26.4)\n",
            "Requirement already satisfied: pandas>=2.0.3 in /usr/local/lib/python3.10/dist-packages (from fairlearn) (2.1.4)\n",
            "Requirement already satisfied: scikit-learn>=1.2.1 in /usr/local/lib/python3.10/dist-packages (from fairlearn) (1.3.2)\n",
            "Requirement already satisfied: scipy>=1.9.3 in /usr/local/lib/python3.10/dist-packages (from fairlearn) (1.13.1)\n",
            "Requirement already satisfied: python-dateutil>=2.8.2 in /usr/local/lib/python3.10/dist-packages (from pandas>=2.0.3->fairlearn) (2.8.2)\n",
            "Requirement already satisfied: pytz>=2020.1 in /usr/local/lib/python3.10/dist-packages (from pandas>=2.0.3->fairlearn) (2024.1)\n",
            "Requirement already satisfied: tzdata>=2022.1 in /usr/local/lib/python3.10/dist-packages (from pandas>=2.0.3->fairlearn) (2024.1)\n",
            "Requirement already satisfied: joblib>=1.1.1 in /usr/local/lib/python3.10/dist-packages (from scikit-learn>=1.2.1->fairlearn) (1.4.2)\n",
            "Requirement already satisfied: threadpoolctl>=2.0.0 in /usr/local/lib/python3.10/dist-packages (from scikit-learn>=1.2.1->fairlearn) (3.5.0)\n",
            "Requirement already satisfied: six>=1.5 in /usr/local/lib/python3.10/dist-packages (from python-dateutil>=2.8.2->pandas>=2.0.3->fairlearn) (1.16.0)\n",
            "Downloading fairlearn-0.10.0-py3-none-any.whl (234 kB)\n",
            "\u001b[2K   \u001b[90m━━━━━━━━━━━━━━━━━━━━━━━━━━━━━━━━━━━━━━━━\u001b[0m \u001b[32m234.1/234.1 kB\u001b[0m \u001b[31m5.3 MB/s\u001b[0m eta \u001b[36m0:00:00\u001b[0m\n",
            "\u001b[?25hInstalling collected packages: fairlearn\n",
            "Successfully installed fairlearn-0.10.0\n"
          ]
        }
      ]
    },
    {
      "cell_type": "markdown",
      "source": [
        "% of safe and risk for male and female\n",
        "\n",
        "plot graphs to understand data distribution\n",
        "\n",
        "Reweighing methodology\n",
        "\n",
        "visualize the dataset\n",
        "\n",
        "Use diversed datasets"
      ],
      "metadata": {
        "id": "WvSyRfnl_iXt"
      }
    },
    {
      "cell_type": "markdown",
      "source": [
        "the disparate impact ratio is the ratio of positive outcomes (Loan_Status=1) in the unprivileged group (in our case, females) divided by the ratio of positive outcomes in the privileged group (males). The AIF360 tool suggests that an acceptable lower bound is .8. That is, if the unprivileged group receives a positive outcome less than 80% of the time that the privileged group does, it is a disparate impact violation."
      ],
      "metadata": {
        "id": "INDCt_4rUDXV"
      }
    },
    {
      "cell_type": "code",
      "source": [
        "import numpy as npy\n",
        "import pandas as pds\n",
        "import matplotlib.pyplot as plt\n",
        "import seaborn as sns\n",
        "cred_df=pds.read_csv('/content/train_AV3.csv')\n",
        "\n",
        "\n",
        "plt.figure(figsize=(8, 6))\n",
        "\n",
        "# Count plot between Property_Area and Loan_Status, with hue as Gender\n",
        "sns.countplot(x='Property_Area', data=cred_df, hue='Loan_Status', palette='Set2')\n",
        "plt.title('Loan Status Distribution by Property Area')\n",
        "plt.xlabel('Property Area')\n",
        "plt.ylabel('Count')\n",
        "plt.legend(title='Loan Status', loc='upper right')\n",
        "plt.show()\n",
        "\n",
        "plt.figure(figsize=(8, 6))\n",
        "\n",
        "\n",
        "\n",
        "\n",
        "\n",
        "\n",
        "print(f\"Count of applicants who meets guidelines: {cred_df['Credit_History'].value_counts()[1]}\")\n",
        "print(f\"Count of applicants who does not meet guidelines: {cred_df['Credit_History'].value_counts()[0]}\")\n",
        "print(f\"Count of applicants who meet guidelines and loan approved: {((cred_df['Credit_History']==1) & (cred_df['Loan_Status']=='Y')).sum()}\")\n",
        "print(f\"Count of applicants who do not meet guidelines and loan approved: {((cred_df['Credit_History']==0) & (cred_df['Loan_Status']=='Y')).sum()}\")\n",
        "approved_count = cred_df['Loan_Status'][cred_df['Loan_Status'] == 'Y'].count()\n",
        "total_count = len(cred_df)\n",
        "approved_percentage = (approved_count / total_count) * 100\n",
        "print(\"Number of approved applicants (loan_status = Y):\", approved_count)\n",
        "print(\"Percentage of approved applicants:\", approved_percentage, \"%\")\n",
        "\n",
        "rejected_count = cred_df['Loan_Status'][cred_df['Loan_Status'] == 'N'].count()\n",
        "total_count = len(cred_df)\n",
        "rejected_percentage = (rejected_count / total_count) * 100\n",
        "print(\"Number of rejected applicants (loan_status = N):\", rejected_count)\n",
        "print(\"Percentage of approved applicants:\", rejected_percentage, \"%\")\n",
        "\n",
        "\n",
        "male_count = cred_df['Gender'][cred_df['Gender'] == 'Male'].count()\n",
        "female_count = cred_df['Gender'][cred_df['Gender'] == 'Female'].count()\n",
        "\n",
        "total_count = len(cred_df)\n",
        "print(male_count)\n",
        "male_percentage = (male_count / total_count) * 100\n",
        "print(female_count)\n",
        "female_percentage = (female_count / total_count) * 100\n",
        "\n",
        "# Display results\n",
        "print(\"Male Count:\", male_count)\n",
        "print(\"Male Percentage:\", male_percentage, \"%\")\n",
        "print(\"\\nFemale Count:\", female_count)\n",
        "print(\"Female Percentage:\", female_percentage, \"%\")\n",
        "\n",
        "cred_df.describe(include='all')\n",
        "cred_df.dropna(how='any',axis=0, inplace=True)\n",
        "cred_df.info()\n",
        "target_counts=cred_df['Loan_Status'].value_counts()\n",
        "print(target_counts)\n",
        "plt.figure(figsize=(8, 6))\n",
        "sns.countplot(x='Loan_Status', data=cred_df, hue='Gender', palette='Set2')\n",
        "plt.title('Loan Status Distribution by Gender')\n",
        "plt.xlabel('Loan Status')\n",
        "plt.ylabel('Count')\n",
        "plt.legend(title='Gender', loc='upper right')\n",
        "plt.show()\n",
        "\n",
        "\n",
        "\n",
        "cred_df=cred_df.drop(['Loan_ID'],axis=1)\n",
        "cred_df.loc[cred_df.Gender=='male','Gender']=1\n",
        "cred_df.loc[cred_df.Gender=='female','Gender']=0\n",
        "cred_df.loc[cred_df.Loan_Status=='Y','Loan_Status']=1\n",
        "cred_df.loc[cred_df.Loan_Status=='N','Loan_Status']=0\n",
        "\n",
        "categorical_columns=['Property_Area', 'Married', 'Dependents', 'Education', 'Self_Employed']\n",
        "\n",
        "for columns in categorical_columns:\n",
        "  oneHotEncoded=pds.get_dummies(cred_df[columns],prefix=columns)\n",
        "  cred_df=cred_df.drop([columns],axis=1)\n",
        "  cred_df=pds.concat([cred_df,oneHotEncoded],axis=1)\n",
        "\n",
        "male_cred_df=cred_df[cred_df['Gender']=='Male']\n",
        "priviliged=male_cred_df.shape[0]\n",
        "print(f\"Number of priviliged (Males): {priviliged}\")\n",
        "female_cred_df=cred_df[cred_df['Gender']=='Female']\n",
        "unpriviliged=female_cred_df.shape[0]\n",
        "print(f\"Number of unpriviliged (Females): {unpriviliged}\")\n",
        "\n",
        "unpriviliged_data_rej=female_cred_df[female_cred_df['Loan_Status']==0].shape[0]\n",
        "print(f\"Number of unpriviliged (Females) who are rejected for loan: {unpriviliged_data_rej}\")\n",
        "\n",
        "priviliged_data_rej=male_cred_df[male_cred_df['Loan_Status']==0].shape[0]\n",
        "print(f\"Number of priviliged (Males) who are rejected for loan: {priviliged_data_rej}\")\n",
        "\n",
        "print(f\"Percentage_f: {(unpriviliged_data_rej/total_count)*100}\")\n",
        "print(f\"Percentage_m: {(priviliged_data_rej/total_count)*100}\")\n",
        "\n",
        "unpriviliged_data=female_cred_df[female_cred_df['Loan_Status']==1].shape[0]\n",
        "print(f\"Number of unpriviliged (Females) who are approved for loan: {unpriviliged_data}\")\n",
        "\n",
        "priviliged_data=male_cred_df[male_cred_df['Loan_Status']==1].shape[0]\n",
        "print(f\"Number of priviliged (Males) who are approved for loan: {priviliged_data}\")\n",
        "\n",
        "print(f\"Percentage_f_app: {(unpriviliged_data/total_count)*100}\")\n",
        "print(f\"Percentage_m_app: {(priviliged_data/total_count)*100}\")\n",
        "\n",
        "unpriviliged_data_ratio=unpriviliged_data/unpriviliged\n",
        "print(f\"The ratio of the 'Number of unprivileged females who were approved for a loan' to the 'Total number of females (unprivileged)' is {unpriviliged_data_ratio}\")\n",
        "\n",
        "priviliged_data_ratio=priviliged_data/priviliged\n",
        "print(f\"The ratio of the 'Number of privileged males who were approved for a loan' to the 'Total number of males (privileged)' is {priviliged_data_ratio}\")\n",
        "\n",
        "calc_disparate_impact=unpriviliged_data_ratio/priviliged_data_ratio\n",
        "print(f\"Disparate Impact Ratio is {calc_disparate_impact}\")\n",
        "\n",
        "if calc_disparate_impact<0.8:\n",
        "  print(\"***Favours the privileged group***\")\n",
        "elif calc_disparate_impact==1:\n",
        "  print(\"***No bias found***\")\n",
        "elif calc_disparate_impact>1:\n",
        "  print(\"***Favours the unprivileged group***\")\n"
      ],
      "metadata": {
        "colab": {
          "base_uri": "https://localhost:8080/",
          "height": 1000
        },
        "id": "4KqQEWzCR8vD",
        "outputId": "b2c8b275-5858-4541-8bfe-9543f47d8980"
      },
      "execution_count": null,
      "outputs": [
        {
          "output_type": "display_data",
          "data": {
            "text/plain": [
              "<Figure size 800x600 with 1 Axes>"
            ],
            "image/png": "[encoded data removed]"
          },
          "metadata": {}
        },
        {
          "output_type": "stream",
          "name": "stdout",
          "text": [
            "Count of applicants who meets guidelines: 475\n",
            "Count of applicants who does not meet guidelines: 89\n",
            "Count of applicants who meet guidelines and loan approved: 378\n",
            "Count of applicants who do not meet guidelines and loan approved: 7\n",
            "Number of approved applicants (loan_status = Y): 422\n",
            "Percentage of approved applicants: 68.72964169381108 %\n",
            "Number of rejected applicants (loan_status = N): 192\n",
            "Percentage of approved applicants: 31.27035830618892 %\n",
            "489\n",
            "112\n",
            "Male Count: 489\n",
            "Male Percentage: 79.64169381107492 %\n",
            "\n",
            "Female Count: 112\n",
            "Female Percentage: 18.241042345276874 %\n",
            "<class 'pandas.core.frame.DataFrame'>\n",
            "Index: 480 entries, 1 to 613\n",
            "Data columns (total 13 columns):\n",
            " #   Column             Non-Null Count  Dtype  \n",
            "---  ------             --------------  -----  \n",
            " 0   Loan_ID            480 non-null    object \n",
            " 1   Gender             480 non-null    object \n",
            " 2   Married            480 non-null    object \n",
            " 3   Dependents         480 non-null    object \n",
            " 4   Education          480 non-null    object \n",
            " 5   Self_Employed      480 non-null    object \n",
            " 6   ApplicantIncome    480 non-null    int64  \n",
            " 7   CoapplicantIncome  480 non-null    float64\n",
            " 8   LoanAmount         480 non-null    float64\n",
            " 9   Loan_Amount_Term   480 non-null    float64\n",
            " 10  Credit_History     480 non-null    float64\n",
            " 11  Property_Area      480 non-null    object \n",
            " 12  Loan_Status        480 non-null    object \n",
            "dtypes: float64(4), int64(1), object(8)\n",
            "memory usage: 52.5+ KB\n",
            "Loan_Status\n",
            "Y    332\n",
            "N    148\n",
            "Name: count, dtype: int64\n"
          ]
        },
        {
          "output_type": "display_data",
          "data": {
            "text/plain": [
              "<Figure size 800x600 with 0 Axes>"
            ]
          },
          "metadata": {}
        },
        {
          "output_type": "display_data",
          "data": {
            "text/plain": [
              "<Figure size 800x600 with 1 Axes>"
            ],
            "image/png": "[encoded data removed]"
          },
          "metadata": {}
        },
        {
          "output_type": "stream",
          "name": "stdout",
          "text": [
            "Number of priviliged (Males): 394\n",
            "Number of unpriviliged (Females): 86\n",
            "Number of unpriviliged (Females) who are rejected for loan: 32\n",
            "Number of priviliged (Males) who are rejected for loan: 116\n",
            "Percentage_f: 5.211726384364821\n",
            "Percentage_m: 18.892508143322477\n",
            "Number of unpriviliged (Females) who are approved for loan: 54\n",
            "Number of priviliged (Males) who are approved for loan: 278\n",
            "Percentage_f_app: 8.794788273615636\n",
            "Percentage_m_app: 45.27687296416938\n",
            "The ratio of the 'Number of unprivileged females who were approved for a loan' to the 'Total number of females (unprivileged)' is 0.627906976744186\n",
            "The ratio of the 'Number of privileged males who were approved for a loan' to the 'Total number of males (privileged)' is 0.7055837563451777\n",
            "Disparate Impact Ratio is 0.8899113267525515\n"
          ]
        }
      ]
    },
    {
      "cell_type": "markdown",
      "source": [
        "Selection Bias"
      ],
      "metadata": {
        "id": "5jTx2eol_zVR"
      }
    },
    {
      "cell_type": "code",
      "source": [
        "!pip install aif360[inFairness]\n",
        "!pip install aif360[OptimalTransport]"
      ],
      "metadata": {
        "colab": {
          "base_uri": "https://localhost:8080/"
        },
        "id": "epNQfgUxp2zb",
        "outputId": "4b6d2977-f46b-4670-bfe8-9a02f210d41b"
      },
      "execution_count": null,
      "outputs": [
        {
          "output_type": "stream",
          "name": "stdout",
          "text": [
            "Requirement already satisfied: aif360[inFairness] in /usr/local/lib/python3.10/dist-packages (0.6.1)\n",
            "Requirement already satisfied: numpy>=1.16 in /usr/local/lib/python3.10/dist-packages (from aif360[inFairness]) (1.26.4)\n",
            "Requirement already satisfied: scipy>=1.2.0 in /usr/local/lib/python3.10/dist-packages (from aif360[inFairness]) (1.13.1)\n",
            "Requirement already satisfied: pandas>=0.24.0 in /usr/local/lib/python3.10/dist-packages (from aif360[inFairness]) (2.1.4)\n",
            "Requirement already satisfied: scikit-learn>=1.0 in /usr/local/lib/python3.10/dist-packages (from aif360[inFairness]) (1.3.2)\n",
            "Requirement already satisfied: matplotlib in /usr/local/lib/python3.10/dist-packages (from aif360[inFairness]) (3.7.1)\n",
            "Collecting skorch (from aif360[inFairness])\n",
            "  Downloading skorch-1.0.0-py3-none-any.whl.metadata (11 kB)\n",
            "Collecting inFairness>=0.2.2 (from aif360[inFairness])\n",
            "  Downloading inFairness-0.2.3-py3-none-any.whl.metadata (8.1 kB)\n",
            "Collecting POT>=0.8.0 (from inFairness>=0.2.2->aif360[inFairness])\n",
            "  Downloading POT-0.9.4-cp310-cp310-manylinux_2_17_x86_64.manylinux2014_x86_64.whl.metadata (32 kB)\n",
            "Requirement already satisfied: torch>=1.13.0 in /usr/local/lib/python3.10/dist-packages (from inFairness>=0.2.2->aif360[inFairness]) (2.3.1+cu121)\n",
            "Requirement already satisfied: python-dateutil>=2.8.2 in /usr/local/lib/python3.10/dist-packages (from pandas>=0.24.0->aif360[inFairness]) (2.8.2)\n",
            "Requirement already satisfied: pytz>=2020.1 in /usr/local/lib/python3.10/dist-packages (from pandas>=0.24.0->aif360[inFairness]) (2024.1)\n",
            "Requirement already satisfied: tzdata>=2022.1 in /usr/local/lib/python3.10/dist-packages (from pandas>=0.24.0->aif360[inFairness]) (2024.1)\n",
            "Requirement already satisfied: joblib>=1.1.1 in /usr/local/lib/python3.10/dist-packages (from scikit-learn>=1.0->aif360[inFairness]) (1.4.2)\n",
            "Requirement already satisfied: threadpoolctl>=2.0.0 in /usr/local/lib/python3.10/dist-packages (from scikit-learn>=1.0->aif360[inFairness]) (3.5.0)\n",
            "Requirement already satisfied: contourpy>=1.0.1 in /usr/local/lib/python3.10/dist-packages (from matplotlib->aif360[inFairness]) (1.2.1)\n",
            "Requirement already satisfied: cycler>=0.10 in /usr/local/lib/python3.10/dist-packages (from matplotlib->aif360[inFairness]) (0.12.1)\n",
            "Requirement already satisfied: fonttools>=4.22.0 in /usr/local/lib/python3.10/dist-packages (from matplotlib->aif360[inFairness]) (4.53.1)\n",
            "Requirement already satisfied: kiwisolver>=1.0.1 in /usr/local/lib/python3.10/dist-packages (from matplotlib->aif360[inFairness]) (1.4.5)\n",
            "Requirement already satisfied: packaging>=20.0 in /usr/local/lib/python3.10/dist-packages (from matplotlib->aif360[inFairness]) (24.1)\n",
            "Requirement already satisfied: pillow>=6.2.0 in /usr/local/lib/python3.10/dist-packages (from matplotlib->aif360[inFairness]) (9.4.0)\n",
            "Requirement already satisfied: pyparsing>=2.3.1 in /usr/local/lib/python3.10/dist-packages (from matplotlib->aif360[inFairness]) (3.1.2)\n",
            "Requirement already satisfied: tabulate>=0.7.7 in /usr/local/lib/python3.10/dist-packages (from skorch->aif360[inFairness]) (0.9.0)\n",
            "Requirement already satisfied: tqdm>=4.14.0 in /usr/local/lib/python3.10/dist-packages (from skorch->aif360[inFairness]) (4.66.5)\n",
            "Requirement already satisfied: six>=1.5 in /usr/local/lib/python3.10/dist-packages (from python-dateutil>=2.8.2->pandas>=0.24.0->aif360[inFairness]) (1.16.0)\n",
            "Requirement already satisfied: filelock in /usr/local/lib/python3.10/dist-packages (from torch>=1.13.0->inFairness>=0.2.2->aif360[inFairness]) (3.15.4)\n",
            "Requirement already satisfied: typing-extensions>=4.8.0 in /usr/local/lib/python3.10/dist-packages (from torch>=1.13.0->inFairness>=0.2.2->aif360[inFairness]) (4.12.2)\n",
            "Requirement already satisfied: sympy in /usr/local/lib/python3.10/dist-packages (from torch>=1.13.0->inFairness>=0.2.2->aif360[inFairness]) (1.13.2)\n",
            "Requirement already satisfied: networkx in /usr/local/lib/python3.10/dist-packages (from torch>=1.13.0->inFairness>=0.2.2->aif360[inFairness]) (3.3)\n",
            "Requirement already satisfied: jinja2 in /usr/local/lib/python3.10/dist-packages (from torch>=1.13.0->inFairness>=0.2.2->aif360[inFairness]) (3.1.4)\n",
            "Requirement already satisfied: fsspec in /usr/local/lib/python3.10/dist-packages (from torch>=1.13.0->inFairness>=0.2.2->aif360[inFairness]) (2024.6.1)\n",
            "Collecting nvidia-cuda-nvrtc-cu12==12.1.105 (from torch>=1.13.0->inFairness>=0.2.2->aif360[inFairness])\n",
            "  Using cached nvidia_cuda_nvrtc_cu12-12.1.105-py3-none-manylinux1_x86_64.whl.metadata (1.5 kB)\n",
            "Collecting nvidia-cuda-runtime-cu12==12.1.105 (from torch>=1.13.0->inFairness>=0.2.2->aif360[inFairness])\n",
            "  Using cached nvidia_cuda_runtime_cu12-12.1.105-py3-none-manylinux1_x86_64.whl.metadata (1.5 kB)\n",
            "Collecting nvidia-cuda-cupti-cu12==12.1.105 (from torch>=1.13.0->inFairness>=0.2.2->aif360[inFairness])\n",
            "  Using cached nvidia_cuda_cupti_cu12-12.1.105-py3-none-manylinux1_x86_64.whl.metadata (1.6 kB)\n",
            "Collecting nvidia-cudnn-cu12==8.9.2.26 (from torch>=1.13.0->inFairness>=0.2.2->aif360[inFairness])\n",
            "  Using cached nvidia_cudnn_cu12-8.9.2.26-py3-none-manylinux1_x86_64.whl.metadata (1.6 kB)\n",
            "Collecting nvidia-cublas-cu12==12.1.3.1 (from torch>=1.13.0->inFairness>=0.2.2->aif360[inFairness])\n",
            "  Using cached nvidia_cublas_cu12-12.1.3.1-py3-none-manylinux1_x86_64.whl.metadata (1.5 kB)\n",
            "Collecting nvidia-cufft-cu12==11.0.2.54 (from torch>=1.13.0->inFairness>=0.2.2->aif360[inFairness])\n",
            "  Using cached nvidia_cufft_cu12-11.0.2.54-py3-none-manylinux1_x86_64.whl.metadata (1.5 kB)\n",
            "Collecting nvidia-curand-cu12==10.3.2.106 (from torch>=1.13.0->inFairness>=0.2.2->aif360[inFairness])\n",
            "  Using cached nvidia_curand_cu12-10.3.2.106-py3-none-manylinux1_x86_64.whl.metadata (1.5 kB)\n",
            "Collecting nvidia-cusolver-cu12==11.4.5.107 (from torch>=1.13.0->inFairness>=0.2.2->aif360[inFairness])\n",
            "  Using cached nvidia_cusolver_cu12-11.4.5.107-py3-none-manylinux1_x86_64.whl.metadata (1.6 kB)\n",
            "Collecting nvidia-cusparse-cu12==12.1.0.106 (from torch>=1.13.0->inFairness>=0.2.2->aif360[inFairness])\n",
            "  Using cached nvidia_cusparse_cu12-12.1.0.106-py3-none-manylinux1_x86_64.whl.metadata (1.6 kB)\n",
            "Collecting nvidia-nccl-cu12==2.20.5 (from torch>=1.13.0->inFairness>=0.2.2->aif360[inFairness])\n",
            "  Using cached nvidia_nccl_cu12-2.20.5-py3-none-manylinux2014_x86_64.whl.metadata (1.8 kB)\n",
            "Collecting nvidia-nvtx-cu12==12.1.105 (from torch>=1.13.0->inFairness>=0.2.2->aif360[inFairness])\n",
            "  Using cached nvidia_nvtx_cu12-12.1.105-py3-none-manylinux1_x86_64.whl.metadata (1.7 kB)\n",
            "Requirement already satisfied: triton==2.3.1 in /usr/local/lib/python3.10/dist-packages (from torch>=1.13.0->inFairness>=0.2.2->aif360[inFairness]) (2.3.1)\n",
            "Collecting nvidia-nvjitlink-cu12 (from nvidia-cusolver-cu12==11.4.5.107->torch>=1.13.0->inFairness>=0.2.2->aif360[inFairness])\n",
            "  Using cached nvidia_nvjitlink_cu12-12.6.20-py3-none-manylinux2014_x86_64.whl.metadata (1.5 kB)\n",
            "Requirement already satisfied: MarkupSafe>=2.0 in /usr/local/lib/python3.10/dist-packages (from jinja2->torch>=1.13.0->inFairness>=0.2.2->aif360[inFairness]) (2.1.5)\n",
            "Requirement already satisfied: mpmath<1.4,>=1.1.0 in /usr/local/lib/python3.10/dist-packages (from sympy->torch>=1.13.0->inFairness>=0.2.2->aif360[inFairness]) (1.3.0)\n",
            "Downloading inFairness-0.2.3-py3-none-any.whl (45 kB)\n",
            "\u001b[2K   \u001b[90m━━━━━━━━━━━━━━━━━━━━━━━━━━━━━━━━━━━━━━━━\u001b[0m \u001b[32m45.8/45.8 kB\u001b[0m \u001b[31m3.2 MB/s\u001b[0m eta \u001b[36m0:00:00\u001b[0m\n",
            "\u001b[?25hDownloading skorch-1.0.0-py3-none-any.whl (239 kB)\n",
            "\u001b[2K   \u001b[90m━━━━━━━━━━━━━━━━━━━━━━━━━━━━━━━━━━━━━━━━\u001b[0m \u001b[32m239.4/239.4 kB\u001b[0m \u001b[31m7.9 MB/s\u001b[0m eta \u001b[36m0:00:00\u001b[0m\n",
            "\u001b[?25hDownloading POT-0.9.4-cp310-cp310-manylinux_2_17_x86_64.manylinux2014_x86_64.whl (835 kB)\n",
            "\u001b[2K   \u001b[90m━━━━━━━━━━━━━━━━━━━━━━━━━━━━━━━━━━━━━━━━\u001b[0m \u001b[32m835.4/835.4 kB\u001b[0m \u001b[31m22.3 MB/s\u001b[0m eta \u001b[36m0:00:00\u001b[0m\n",
            "\u001b[?25hUsing cached nvidia_cublas_cu12-12.1.3.1-py3-none-manylinux1_x86_64.whl (410.6 MB)\n",
            "Using cached nvidia_cuda_cupti_cu12-12.1.105-py3-none-manylinux1_x86_64.whl (14.1 MB)\n",
            "Using cached nvidia_cuda_nvrtc_cu12-12.1.105-py3-none-manylinux1_x86_64.whl (23.7 MB)\n",
            "Using cached nvidia_cuda_runtime_cu12-12.1.105-py3-none-manylinux1_x86_64.whl (823 kB)\n",
            "Using cached nvidia_cudnn_cu12-8.9.2.26-py3-none-manylinux1_x86_64.whl (731.7 MB)\n",
            "Using cached nvidia_cufft_cu12-11.0.2.54-py3-none-manylinux1_x86_64.whl (121.6 MB)\n",
            "Using cached nvidia_curand_cu12-10.3.2.106-py3-none-manylinux1_x86_64.whl (56.5 MB)\n",
            "Using cached nvidia_cusolver_cu12-11.4.5.107-py3-none-manylinux1_x86_64.whl (124.2 MB)\n",
            "Using cached nvidia_cusparse_cu12-12.1.0.106-py3-none-manylinux1_x86_64.whl (196.0 MB)\n",
            "Using cached nvidia_nccl_cu12-2.20.5-py3-none-manylinux2014_x86_64.whl (176.2 MB)\n",
            "Using cached nvidia_nvtx_cu12-12.1.105-py3-none-manylinux1_x86_64.whl (99 kB)\n",
            "Using cached nvidia_nvjitlink_cu12-12.6.20-py3-none-manylinux2014_x86_64.whl (19.7 MB)\n",
            "Installing collected packages: nvidia-nvtx-cu12, nvidia-nvjitlink-cu12, nvidia-nccl-cu12, nvidia-curand-cu12, nvidia-cufft-cu12, nvidia-cuda-runtime-cu12, nvidia-cuda-nvrtc-cu12, nvidia-cuda-cupti-cu12, nvidia-cublas-cu12, POT, nvidia-cusparse-cu12, nvidia-cudnn-cu12, skorch, nvidia-cusolver-cu12, inFairness\n",
            "Successfully installed POT-0.9.4 inFairness-0.2.3 nvidia-cublas-cu12-12.1.3.1 nvidia-cuda-cupti-cu12-12.1.105 nvidia-cuda-nvrtc-cu12-12.1.105 nvidia-cuda-runtime-cu12-12.1.105 nvidia-cudnn-cu12-8.9.2.26 nvidia-cufft-cu12-11.0.2.54 nvidia-curand-cu12-10.3.2.106 nvidia-cusolver-cu12-11.4.5.107 nvidia-cusparse-cu12-12.1.0.106 nvidia-nccl-cu12-2.20.5 nvidia-nvjitlink-cu12-12.6.20 nvidia-nvtx-cu12-12.1.105 skorch-1.0.0\n",
            "Requirement already satisfied: aif360[OptimalTransport] in /usr/local/lib/python3.10/dist-packages (0.6.1)\n",
            "Requirement already satisfied: numpy>=1.16 in /usr/local/lib/python3.10/dist-packages (from aif360[OptimalTransport]) (1.26.4)\n",
            "Requirement already satisfied: scipy>=1.2.0 in /usr/local/lib/python3.10/dist-packages (from aif360[OptimalTransport]) (1.13.1)\n",
            "Requirement already satisfied: pandas>=0.24.0 in /usr/local/lib/python3.10/dist-packages (from aif360[OptimalTransport]) (2.1.4)\n",
            "Requirement already satisfied: scikit-learn>=1.0 in /usr/local/lib/python3.10/dist-packages (from aif360[OptimalTransport]) (1.3.2)\n",
            "Requirement already satisfied: matplotlib in /usr/local/lib/python3.10/dist-packages (from aif360[OptimalTransport]) (3.7.1)\n",
            "Requirement already satisfied: pot in /usr/local/lib/python3.10/dist-packages (from aif360[OptimalTransport]) (0.9.4)\n",
            "Requirement already satisfied: python-dateutil>=2.8.2 in /usr/local/lib/python3.10/dist-packages (from pandas>=0.24.0->aif360[OptimalTransport]) (2.8.2)\n",
            "Requirement already satisfied: pytz>=2020.1 in /usr/local/lib/python3.10/dist-packages (from pandas>=0.24.0->aif360[OptimalTransport]) (2024.1)\n",
            "Requirement already satisfied: tzdata>=2022.1 in /usr/local/lib/python3.10/dist-packages (from pandas>=0.24.0->aif360[OptimalTransport]) (2024.1)\n",
            "Requirement already satisfied: joblib>=1.1.1 in /usr/local/lib/python3.10/dist-packages (from scikit-learn>=1.0->aif360[OptimalTransport]) (1.4.2)\n",
            "Requirement already satisfied: threadpoolctl>=2.0.0 in /usr/local/lib/python3.10/dist-packages (from scikit-learn>=1.0->aif360[OptimalTransport]) (3.5.0)\n",
            "Requirement already satisfied: contourpy>=1.0.1 in /usr/local/lib/python3.10/dist-packages (from matplotlib->aif360[OptimalTransport]) (1.2.1)\n",
            "Requirement already satisfied: cycler>=0.10 in /usr/local/lib/python3.10/dist-packages (from matplotlib->aif360[OptimalTransport]) (0.12.1)\n",
            "Requirement already satisfied: fonttools>=4.22.0 in /usr/local/lib/python3.10/dist-packages (from matplotlib->aif360[OptimalTransport]) (4.53.1)\n",
            "Requirement already satisfied: kiwisolver>=1.0.1 in /usr/local/lib/python3.10/dist-packages (from matplotlib->aif360[OptimalTransport]) (1.4.5)\n",
            "Requirement already satisfied: packaging>=20.0 in /usr/local/lib/python3.10/dist-packages (from matplotlib->aif360[OptimalTransport]) (24.1)\n",
            "Requirement already satisfied: pillow>=6.2.0 in /usr/local/lib/python3.10/dist-packages (from matplotlib->aif360[OptimalTransport]) (9.4.0)\n",
            "Requirement already satisfied: pyparsing>=2.3.1 in /usr/local/lib/python3.10/dist-packages (from matplotlib->aif360[OptimalTransport]) (3.1.2)\n",
            "Requirement already satisfied: six>=1.5 in /usr/local/lib/python3.10/dist-packages (from python-dateutil>=2.8.2->pandas>=0.24.0->aif360[OptimalTransport]) (1.16.0)\n"
          ]
        }
      ]
    },
    {
      "cell_type": "code",
      "source": [
        "\n",
        "\n",
        "mean_income = cred_df['ApplicantIncome'].mean()\n",
        "num_females_above_mean = cred_df[(cred_df['Gender'] == 'Female') & (cred_df['ApplicantIncome'] > mean_income)].shape[0]\n",
        "print(f\"Number of females with applicant income more than mean income: {num_females_above_mean}\")\n",
        "\n",
        "num_males_above_mean = cred_df[(cred_df['Gender'] == 'Male') & (cred_df['ApplicantIncome'] > mean_income)].shape[0]\n",
        "print(f\"Number of males with applicant income more than mean income: {num_males_above_mean}\")\n",
        "\n",
        "num_females_above_mean_loan_approved = cred_df[(cred_df['Gender'] == 'Female') & (cred_df['ApplicantIncome'] > mean_income) & (cred_df['Loan_Status']==1)].shape[0]\n",
        "print(f\"Number of females with applicant income more than mean income and loan approved: {num_females_above_mean_loan_approved}\")\n",
        "\n",
        "num_males_above_mean_loan_approved = cred_df[(cred_df['Gender'] == 'Male') & (cred_df['ApplicantIncome'] > mean_income) & (cred_df['Loan_Status']==1)].shape[0]\n",
        "print(f\"Number of males with applicant income more than mean income and loan approved: {num_males_above_mean_loan_approved}\")\n",
        "\n",
        "print(num_females_above_mean_loan_approved/num_females_above_mean)\n",
        "print(num_males_above_mean_loan_approved/num_males_above_mean)\n",
        "print(f\"Disparate impact ratio: {(num_females_above_mean_loan_approved/num_females_above_mean)/(num_males_above_mean_loan_approved/num_males_above_mean)}\")\n",
        "\n",
        "\n",
        "\n",
        "\n",
        "\n"
      ],
      "metadata": {
        "colab": {
          "base_uri": "https://localhost:8080/"
        },
        "id": "cUSv7JNyFAZ_",
        "outputId": "6630c1d3-d528-4280-c740-ffb3d72cff6e"
      },
      "execution_count": null,
      "outputs": [
        {
          "output_type": "stream",
          "name": "stdout",
          "text": [
            "Number of females with applicant income more than mean income: 18\n",
            "Number of males with applicant income more than mean income: 126\n",
            "Number of females with applicant income more than mean income and loan approved: 13\n",
            "Number of males with applicant income more than mean income and loan approved: 86\n",
            "0.7222222222222222\n",
            "0.6825396825396826\n",
            "Disparate impact ratio: 1.0581395348837208\n"
          ]
        }
      ]
    },
    {
      "cell_type": "markdown",
      "source": [
        "Mitigating Bias using AIF360 to remove make desparate impact 1"
      ],
      "metadata": {
        "id": "Kkf-nud5_1y9"
      }
    },
    {
      "cell_type": "code",
      "source": [
        "from aif360.datasets import BinaryLabelDataset\n",
        "from aif360.metrics import BinaryLabelDatasetMetric\n",
        "from aif360.algorithms.preprocessing import Reweighing\n",
        "from sklearn import preprocessing\n",
        "import pandas as pd\n",
        "\n",
        "\n",
        "df = pd.read_csv('/content/train_AV3.csv')\n",
        "df.dropna(how='any',axis=0, inplace=True)\n",
        "df = df.drop(columns=['Loan_ID','Dependents','Property_Area'])\n",
        "data_encoded = df.copy(deep=True)\n",
        "lab_enc = preprocessing.LabelEncoder()\n",
        "categorical_column = ['Gender', 'Married', 'Loan_Status', 'Education', 'Self_Employed']\n",
        "\n",
        "for col in categorical_column:\n",
        "    data_encoded[col] = lab_enc.fit_transform(df[col])\n",
        "\n",
        "favorable_label = 1\n",
        "unfavorable_label = 0\n",
        "unprivileged_groups = [{'Gender': 0}]\n",
        "privileged_groups = [{'Gender': 1}]\n",
        "\n",
        "cred_dataset = BinaryLabelDataset(\n",
        "    favorable_label=favorable_label,\n",
        "    unfavorable_label=unfavorable_label,\n",
        "    df=data_encoded,\n",
        "    label_names=['Loan_Status'],\n",
        "    protected_attribute_names=['Gender', 'Married']\n",
        ")\n",
        "\n",
        "RW = Reweighing(unprivileged_groups=unprivileged_groups,\n",
        "                privileged_groups=privileged_groups)\n",
        "RW.fit(cred_dataset)\n",
        "train_tf_dataset = RW.transform(cred_dataset)\n",
        "\n",
        "metric_transformed_train = BinaryLabelDatasetMetric(train_tf_dataset,\n",
        "                                                    unprivileged_groups=unprivileged_groups,\n",
        "                                                    privileged_groups=privileged_groups)\n",
        "\n",
        "disparate_impact_ratio = metric_transformed_train.disparate_impact()\n",
        "print(\"Disparate Impact Ratio (after transformation):\", disparate_impact_ratio)\n",
        "\n",
        "# train_tf_df=train_tf_dataset.convert_to_dataframe()[0]\n",
        "\n",
        "# unpriviliged_ratio=train_tf_df[(train_tf_df['Gender']==0) & (train_tf_df['Loan_Status']==1)].shape[0]/train_tf_df[train_tf_df['Gender']==0].shape[0]\n",
        "# print(f\"The ratio of the 'Number of unprivileged females who were approved for a loan' to the 'Total number of females (unprivileged)' is {unpriviliged_ratio}\")\n",
        "# priviliged_ratio=train_tf_df[(train_tf_df['Gender']==1) & (train_tf_df['Loan_Status']==1)].shape[0]/train_tf_df[train_tf_df['Gender']==1].shape[0]\n",
        "# print(unpriviliged_ratio/priviliged_ratio)\n",
        "\n"
      ],
      "metadata": {
        "colab": {
          "base_uri": "https://localhost:8080/"
        },
        "id": "fPwFaSHf9xHj",
        "outputId": "165d439d-ffd2-4f2c-ac9c-e7f4420c8cf7"
      },
      "execution_count": null,
      "outputs": [
        {
          "output_type": "stream",
          "name": "stdout",
          "text": [
            "Disparate Impact Ratio (after transformation): 1.0000000000000002\n"
          ]
        },
        {
          "output_type": "stream",
          "name": "stderr",
          "text": [
            "/usr/local/lib/python3.10/dist-packages/torch/_functorch/deprecated.py:61: UserWarning: We've integrated functorch into PyTorch. As the final step of the integration, functorch.vmap is deprecated as of PyTorch 2.0 and will be deleted in a future version of PyTorch >= 2.3. Please use torch.vmap instead; see the PyTorch 2.0 release notes and/or the torch.func migration guide for more details https://pytorch.org/docs/master/func.migrating.html\n",
            "  warn_deprecated('vmap', 'torch.vmap')\n"
          ]
        }
      ]
    },
    {
      "cell_type": "code",
      "source": [
        "from sklearn.model_selection import train_test_split"
      ],
      "metadata": {
        "id": "4Q_3MpMUfVFK"
      },
      "execution_count": null,
      "outputs": []
    },
    {
      "cell_type": "markdown",
      "source": [
        "Model Fitting"
      ],
      "metadata": {
        "id": "Unh35Ne6d5dJ"
      }
    },
    {
      "cell_type": "code",
      "source": [
        "cred_df=train_tf_dataset.convert_to_dataframe()[0]\n",
        "x = cred_df.drop(['Loan_Status'], axis=1)\n",
        "y = cred_df['Loan_Status']\n",
        "x_train,x_test,y_train,y_test = train_test_split(x, y, test_size=0.2, random_state = 10)\n",
        "\n",
        "from sklearn.linear_model import LogisticRegression\n",
        "model=LogisticRegression(solver='liblinear', class_weight='balanced')\n",
        "model.fit(x_train,y_train)\n",
        "y_pred=model.predict(x_test)\n",
        "import matplotlib.pyplot as plt\n",
        "from sklearn import metrics\n",
        "print(\"Accuracy: \", metrics.accuracy_score(y_test,y_pred))\n",
        "print(\"Precision: \", metrics.precision_score(y_test,y_pred))\n",
        "print(\"Recall: \", metrics.recall_score(y_test,y_pred))"
      ],
      "metadata": {
        "colab": {
          "base_uri": "https://localhost:8080/"
        },
        "id": "ooqcwsInd7Gf",
        "outputId": "ad023af8-fa5e-4e65-dda9-bc229c25a68d"
      },
      "execution_count": null,
      "outputs": [
        {
          "output_type": "stream",
          "name": "stdout",
          "text": [
            "Accuracy:  0.8125\n",
            "Precision:  0.788235294117647\n",
            "Recall:  1.0\n"
          ]
        }
      ]
    },
    {
      "cell_type": "code",
      "source": [
        "from sklearn.metrics import confusion_matrix\n",
        "\n",
        "# Calculate the confusion matrix\n",
        "conf_matrix = confusion_matrix(y_test, y_pred)\n",
        "\n",
        "# Extract TP, TN, FP, FN\n",
        "TN, FP, FN, TP = conf_matrix.ravel()\n",
        "\n",
        "# Calculate TPR, FPR, TNR, FNR\n",
        "TPR = TP / (TP + FN)  # True Positive Rate (Recall)\n",
        "FPR = FP / (FP + TN)  # False Positive Rate\n",
        "TNR = TN / (TN + FP)  # True Negative Rate\n",
        "FNR = FN / (FN + TP)  # False Negative Rate\n",
        "\n",
        "# Print the counts\n",
        "print(f\"True Positives (TP): {TP}\")\n",
        "print(f\"True Negatives (TN): {TN}\")\n",
        "print(f\"False Positives (FP): {FP}\")\n",
        "print(f\"False Negatives (FN): {FN}\")\n",
        "\n",
        "# Print the percentages\n",
        "print(f\"True Positive Rate (TPR): {TPR:.2%}\")\n",
        "print(f\"False Positive Rate (FPR): {FPR:.2%}\")\n",
        "print(f\"True Negative Rate (TNR): {TNR:.2%}\")\n",
        "print(f\"False Negative Rate (FNR): {FNR:.2%}\")\n"
      ],
      "metadata": {
        "colab": {
          "base_uri": "https://localhost:8080/"
        },
        "id": "vRD5pxTAfxqn",
        "outputId": "e8d107d8-5d72-46ba-9e50-224e0101db39"
      },
      "execution_count": null,
      "outputs": [
        {
          "output_type": "stream",
          "name": "stdout",
          "text": [
            "True Positives (TP): 67\n",
            "True Negatives (TN): 11\n",
            "False Positives (FP): 18\n",
            "False Negatives (FN): 0\n",
            "True Positive Rate (TPR): 100.00%\n",
            "False Positive Rate (FPR): 62.07%\n",
            "True Negative Rate (TNR): 37.93%\n",
            "False Negative Rate (FNR): 0.00%\n"
          ]
        }
      ]
    },
    {
      "cell_type": "markdown",
      "source": [
        "Usecase 2\n",
        "70k+ Job Applicants Data (Human Resource)"
      ],
      "metadata": {
        "id": "_0s3F7BEMATx"
      }
    },
    {
      "cell_type": "code",
      "source": [
        "import numpy as npy\n",
        "import pandas as pds\n",
        "import matplotlib.pyplot as plt\n",
        "import seaborn as sns\n",
        "Emp_df=pds.read_csv('/content/stackoverflow_full.csv')\n",
        "print(f\"Total count: {len(Emp_df)}\")\n",
        "print(f\"Count of Employed: {(Emp_df['Employed'].value_counts()[1])}\")\n",
        "print(f\"Count of UnEmployed: {(Emp_df['Employed'].value_counts()[0])}\")\n",
        "print(f\"Employed percentage: {(Emp_df['Employed'].value_counts()[1]/len(Emp_df))*100}%\")\n",
        "print(f\"UnEmployed percentage: {(Emp_df['Employed'].value_counts()[0]/len(Emp_df))*100}%\")\n",
        "print(f\"Count of Males: {(Emp_df['Gender'].value_counts()['Man'])}\")\n",
        "print(f\"Count of Females: {(Emp_df['Gender'].value_counts()['Woman'])}\")\n",
        "print(f\"Count of NonBinary: {(Emp_df['Gender'].value_counts()['NonBinary'])}\")\n",
        "print(f\"Male percentage: {(Emp_df['Gender'].value_counts()['Man']/len(Emp_df))*100}%\")\n",
        "print(f\"Female percentage: {(Emp_df['Gender'].value_counts()['Woman']/len(Emp_df))*100}%\")\n",
        "print(f\"NonBinary percentage: {(Emp_df['Gender'].value_counts()['NonBinary']/len(Emp_df))*100}%\")\n",
        "\n",
        "\n",
        "female_employed_df = Emp_df[(Emp_df['Gender'] == 'Woman') & (Emp_df['Employed'] == 1)]\n",
        "male_employed_df = Emp_df[(Emp_df['Gender'] == 'Man') & (Emp_df['Employed'] == 1)]\n",
        "nb_employed_df = Emp_df[(Emp_df['Gender'] == 'NonBinary') & (Emp_df['Employed'] == 1)]\n",
        "\n",
        "print(f\" Female Not Employed {(Emp_df[(Emp_df['Gender'] == 'Woman') & (Emp_df['Employed'] == 0)]).shape[0]}\")\n",
        "print(f\" Male Not Employed {(Emp_df[(Emp_df['Gender'] == 'Man') & (Emp_df['Employed'] == 0)]).shape[0]}\")\n",
        "print(f\" Non Binary Not Employed {(Emp_df[(Emp_df['Gender'] == 'NonBinary') & (Emp_df['Employed'] == 0)]).shape[0]}\")\n",
        "\n",
        "num_female_employed = len(female_employed_df)\n",
        "num_male_employed = len(male_employed_df)\n",
        "num_nb_employed = len(nb_employed_df)\n",
        "percentage_male_employed = (num_male_employed / Emp_df['Gender'].value_counts()['Man']) * 100\n",
        "percentage_female_employed = (num_female_employed / Emp_df['Gender'].value_counts()['Woman']) * 100\n",
        "percentage_nb_employed = (num_nb_employed / Emp_df['Gender'].value_counts()['NonBinary']) * 100\n",
        "print(\"Number of employed females:\", num_female_employed)\n",
        "print(\"Number of employed males:\", num_male_employed)\n",
        "print(\"Number of employed NonBinary:\", num_nb_employed)\n",
        "print(\"Percentage of employed females: {:.2f}%\".format(percentage_female_employed))\n",
        "print(\"Percentage of employed males: {:.2f}%\".format(percentage_male_employed))\n",
        "print(\"Percentage of employed NonBinary: {:.2f}%\".format(percentage_nb_employed))\n",
        "\n",
        "import seaborn as sns\n",
        "import matplotlib.pyplot as plt\n",
        "\n",
        "# Create a violin plot to visualize the distribution of 'YearsCodePro' for employed and unemployed individuals\n",
        "plt.figure(figsize=(10, 6))\n",
        "sns.violinplot(x='Employed', y='YearsCodePro', data=Emp_df, hue='Gender', split=True, palette='Set2')\n",
        "plt.title('Distribution of Years of Professional Coding Experience by Employment Status and Gender')\n",
        "plt.xlabel('Employed')\n",
        "plt.ylabel('Years of Professional Coding Experience')\n",
        "plt.show()\n",
        "\n",
        "import seaborn as sns\n",
        "import matplotlib.pyplot as plt\n",
        "\n",
        "# Create a box plot to visualize the distribution of 'ComputerSkills' for employed and unemployed individuals\n",
        "plt.figure(figsize=(10, 6))\n",
        "sns.boxplot(x='Employed', y='ComputerSkills', data=Emp_df, hue='Gender', palette='Set2')\n",
        "plt.title('Distribution of Computer Skills by Employment Status and Gender')\n",
        "plt.xlabel('Employed')\n",
        "plt.ylabel('Computer Skills')\n",
        "plt.show()\n",
        "\n",
        "\n",
        "\n",
        "Emp_df = Emp_df.sample(n=5000, random_state=1)\n",
        "Emp_df.describe(include='all')\n",
        "Emp_df.dropna(how='any',axis=0, inplace=True)\n",
        "Emp_df.info()\n",
        "target_counts=Emp_df['Employed'].value_counts()\n",
        "print(target_counts)\n",
        "\n",
        "plt.figure(figsize=(8, 6))\n",
        "sns.countplot(x='Employed', data=Emp_df, hue='Gender', palette='Set2')\n",
        "plt.title('Employment rate Distribution by Gender')\n",
        "plt.xlabel('Employed')\n",
        "plt.ylabel('Count')\n",
        "plt.legend(title='Gender', loc='upper right')\n",
        "plt.show()\n",
        "\n",
        "\n",
        "Emp_df=Emp_df.drop(['Accessibility','MentalHealth'],axis=1)\n",
        "Emp_df.loc[Emp_df.Gender=='Man','Gender']=1\n",
        "Emp_df.loc[Emp_df.Gender=='Woman','Gender']=0\n",
        "Emp_df.loc[Emp_df.Gender=='NonBinary','Gender']=2\n",
        "\n",
        "\n",
        "categorical_columns=['Age', 'EdLevel', 'MainBranch', 'HaveWorkedWith', 'Country']\n",
        "\n",
        "for columns in categorical_columns:\n",
        "  oneHotEncoded=pds.get_dummies(Emp_df[columns],prefix=columns)\n",
        "  Emp_df=Emp_df.drop([columns],axis=1)\n",
        "  Emp_df=pds.concat([Emp_df,oneHotEncoded],axis=1)\n",
        "\n",
        "male_emp_df=Emp_df[Emp_df['Gender']==1]\n",
        "priviliged=male_emp_df.shape[0]\n",
        "print(f\"Number of priviliged (Males): {priviliged}\")\n",
        "female_emp_df=Emp_df[Emp_df['Gender']==0]\n",
        "unpriviliged=female_emp_df.shape[0]\n",
        "print(f\"Number of unpriviliged (Females): {unpriviliged}\")\n",
        "\n",
        "unpriviliged_data=female_emp_df[female_emp_df['Employed']==1].shape[0]\n",
        "print(f\"Number of unpriviliged (Females) who are approved for loan: {unpriviliged_data}\")\n",
        "\n",
        "priviliged_data=male_emp_df[male_emp_df['Employed']==1].shape[0]\n",
        "print(f\"Number of priviliged (Males) who are approved for loan: {priviliged_data}\")\n",
        "\n",
        "unpriviliged_data_ratio=unpriviliged_data/unpriviliged\n",
        "print(f\"The ratio of the 'Number of unprivileged females who were approved for a loan' to the 'Total number of females (unprivileged)' is {unpriviliged_data_ratio}\")\n",
        "\n",
        "priviliged_data_ratio=priviliged_data/priviliged\n",
        "print(f\"The ratio of the 'Number of privileged males who were approved for a loan' to the 'Total number of males (privileged)' is {priviliged_data_ratio}\")\n",
        "\n",
        "calc_disparate_impact=unpriviliged_data_ratio/priviliged_data_ratio\n",
        "print(f\"Disparate Impact Ratio is {calc_disparate_impact}\")\n",
        "\n",
        "if calc_disparate_impact<0.8:\n",
        "  print(\"***Favours the privileged group***\")\n",
        "elif calc_disparate_impact==1:\n",
        "  print(\"***No bias found***\")\n",
        "elif calc_disparate_impact>1:\n",
        "  print(\"***Favours the unprivileged group***\")\n"
      ],
      "metadata": {
        "colab": {
          "base_uri": "https://localhost:8080/",
          "height": 1000
        },
        "id": "_kvc6cW4MHZi",
        "outputId": "29add795-6182-4475-b363-ec839863a629"
      },
      "execution_count": null,
      "outputs": [
        {
          "output_type": "stream",
          "name": "stdout",
          "text": [
            "Total count: 73462\n",
            "Count of Employed: 39392\n",
            "Count of UnEmployed: 34070\n",
            "Employed percentage: 53.62228090713567%\n",
            "UnEmployed percentage: 46.37771909286434%\n",
            "Count of Males: 68573\n",
            "Count of Females: 3518\n",
            "Count of NonBinary: 1371\n",
            "Male percentage: 93.34485856633361%\n",
            "Female percentage: 4.788870436416106%\n",
            "NonBinary percentage: 1.866270997250279%\n",
            " Female Not Employed 1939\n",
            " Male Not Employed 31491\n",
            " Non Binary Not Employed 640\n",
            "Number of employed females: 1579\n",
            "Number of employed males: 37082\n",
            "Number of employed NonBinary: 731\n",
            "Percentage of employed females: 44.88%\n",
            "Percentage of employed males: 54.08%\n",
            "Percentage of employed NonBinary: 53.32%\n"
          ]
        },
        {
          "output_type": "display_data",
          "data": {
            "text/plain": [
              "<Figure size 1000x600 with 1 Axes>"
            ],
            "image/png": "[encoded data removed]"
          },
          "metadata": {}
        },
        {
          "output_type": "display_data",
          "data": {
            "text/plain": [
              "<Figure size 1000x600 with 1 Axes>"
            ],
            "image/png": "[encoded data removed]"
          },
          "metadata": {}
        },
        {
          "output_type": "stream",
          "name": "stdout",
          "text": [
            "<class 'pandas.core.frame.DataFrame'>\n",
            "Index: 4994 entries, 66877 to 12305\n",
            "Data columns (total 15 columns):\n",
            " #   Column          Non-Null Count  Dtype  \n",
            "---  ------          --------------  -----  \n",
            " 0   Unnamed: 0      4994 non-null   int64  \n",
            " 1   Age             4994 non-null   object \n",
            " 2   Accessibility   4994 non-null   object \n",
            " 3   EdLevel         4994 non-null   object \n",
            " 4   Employment      4994 non-null   int64  \n",
            " 5   Gender          4994 non-null   object \n",
            " 6   MentalHealth    4994 non-null   object \n",
            " 7   MainBranch      4994 non-null   object \n",
            " 8   YearsCode       4994 non-null   int64  \n",
            " 9   YearsCodePro    4994 non-null   int64  \n",
            " 10  Country         4994 non-null   object \n",
            " 11  PreviousSalary  4994 non-null   float64\n",
            " 12  HaveWorkedWith  4994 non-null   object \n",
            " 13  ComputerSkills  4994 non-null   int64  \n",
            " 14  Employed        4994 non-null   int64  \n",
            "dtypes: float64(1), int64(6), object(8)\n",
            "memory usage: 624.2+ KB\n",
            "Employed\n",
            "1    2702\n",
            "0    2292\n",
            "Name: count, dtype: int64\n"
          ]
        },
        {
          "output_type": "display_data",
          "data": {
            "text/plain": [
              "<Figure size 800x600 with 1 Axes>"
            ],
            "image/png": "[encoded data removed]"
          },
          "metadata": {}
        },
        {
          "output_type": "stream",
          "name": "stdout",
          "text": [
            "Number of priviliged (Males): 4633\n",
            "Number of unpriviliged (Females): 272\n",
            "Number of unpriviliged (Females) who are approved for loan: 126\n",
            "Number of priviliged (Males) who are approved for loan: 2534\n",
            "The ratio of the 'Number of unprivileged females who were approved for a loan' to the 'Total number of females (unprivileged)' is 0.4632352941176471\n",
            "The ratio of the 'Number of privileged males who were approved for a loan' to the 'Total number of males (privileged)' is 0.5469458234405353\n",
            "Disparate Impact Ratio is 0.8469491387715307\n"
          ]
        }
      ]
    },
    {
      "cell_type": "markdown",
      "source": [
        "Fitting Model and slicing on raw data"
      ],
      "metadata": {
        "id": "KxjLwWwclPbX"
      }
    },
    {
      "cell_type": "code",
      "source": [
        "x = Emp_df.drop(['Employed'], axis=1)\n",
        "y = Emp_df['Employed']\n",
        "x_train,x_test,y_train,y_test = train_test_split(x, y, test_size=0.2, random_state = 10)\n",
        "\n",
        "from sklearn.linear_model import LogisticRegression\n",
        "model=LogisticRegression(solver='liblinear', class_weight='balanced')\n",
        "model.fit(x_train,y_train)\n",
        "y_pred=model.predict(x_test)\n",
        "import matplotlib.pyplot as plt\n",
        "from sklearn import metrics\n",
        "print(\"Accuracy: \", metrics.accuracy_score(y_test,y_pred))\n",
        "print(\"Precision: \", metrics.precision_score(y_test,y_pred))\n",
        "print(\"Recall: \", metrics.recall_score(y_test,y_pred))\n",
        "print(len(x_test))\n",
        "from sklearn.metrics import confusion_matrix\n",
        "\n",
        "# Calculate the confusion matrix\n",
        "conf_matrix = confusion_matrix(y_test, y_pred)\n",
        "\n",
        "# Extract TP, TN, FP, FN\n",
        "TN, FP, FN, TP = conf_matrix.ravel()\n",
        "\n",
        "# Calculate TPR, FPR, TNR, FNR\n",
        "TPR = TP / (TP + FN)  # True Positive Rate (Recall)\n",
        "FPR = FP / (FP + TN)  # False Positive Rate\n",
        "TNR = TN / (TN + FP)  # True Negative Rate\n",
        "FNR = FN / (FN + TP)  # False Negative Rate\n",
        "\n",
        "# Print the counts\n",
        "print(f\"True Positives (TP): {TP}\")\n",
        "print(f\"True Negatives (TN): {TN}\")\n",
        "print(f\"False Positives (FP): {FP}\")\n",
        "print(f\"False Negatives (FN): {FN}\")\n",
        "\n",
        "# Print the percentages\n",
        "print(f\"True Positive Rate (TPR): {TPR:.2%}\")\n",
        "print(f\"False Positive Rate (FPR): {FPR:.2%}\")\n",
        "print(f\"True Negative Rate (TNR): {TNR:.2%}\")\n",
        "print(f\"False Negative Rate (FNR): {FNR:.2%}\")\n",
        "\n",
        "\n",
        "####Unprivileged\n",
        "x_test_up = x_test.loc[x_test['Gender'] == 0]\n",
        "y_test_up = y_test.loc[x_test_up.index]\n",
        "if not x_test_up.empty:\n",
        "    y_pred_up = model.predict(x_test_up)\n",
        "    print(\"Unprivileged Group Metrics:\")\n",
        "    print(\"Accuracy: \", metrics.accuracy_score(y_test_up, y_pred_up))\n",
        "    print(\"Precision: \", metrics.precision_score(y_test_up, y_pred_up))\n",
        "    print(\"Recall: \", metrics.recall_score(y_test_up, y_pred_up))\n",
        "else:\n",
        "    print(\"No samples found for the unprivileged group.\")\n",
        "\n",
        "    conf_matrix = confusion_matrix(y_test_up, y_pred_up)\n",
        "\n",
        "# Extract TP, TN, FP, FN\n",
        "TN, FP, FN, TP = conf_matrix.ravel()\n",
        "\n",
        "# Calculate TPR, FPR, TNR, FNR\n",
        "TPR = TP / (TP + FN)  # True Positive Rate (Recall)\n",
        "FPR = FP / (FP + TN)  # False Positive Rate\n",
        "TNR = TN / (TN + FP)  # True Negative Rate\n",
        "FNR = FN / (FN + TP)  # False Negative Rate\n",
        "\n",
        "# Print the counts\n",
        "print(f\"True Positives (TP): {TP}\")\n",
        "print(f\"True Negatives (TN): {TN}\")\n",
        "print(f\"False Positives (FP): {FP}\")\n",
        "print(f\"False Negatives (FN): {FN}\")\n",
        "\n",
        "# Print the percentages\n",
        "print(f\"True Positive Rate (TPR): {TPR:.2%}\")\n",
        "print(f\"False Positive Rate (FPR): {FPR:.2%}\")\n",
        "print(f\"True Negative Rate (TNR): {TNR:.2%}\")\n",
        "print(f\"False Negative Rate (FNR): {FNR:.2%}\")\n",
        "\n",
        "print(len(x_test_up))\n",
        "\n",
        "####Privileged\n",
        "x_test_p = x_test.loc[x_test['Gender'] == 1]\n",
        "y_test_p = y_test.loc[x_test_p.index]\n",
        "if not x_test_p.empty:\n",
        "    y_pred_p = model.predict(x_test_p)\n",
        "    print(\"Privileged Group Metrics:\")\n",
        "    print(\"Accuracy: \", metrics.accuracy_score(y_test_p, y_pred_p))\n",
        "    print(\"Precision: \", metrics.precision_score(y_test_p, y_pred_p))\n",
        "    print(\"Recall: \", metrics.recall_score(y_test_p, y_pred_p))\n",
        "else:\n",
        "    print(\"No samples found for the unprivileged group.\")\n",
        "\n",
        "conf_matrix = confusion_matrix(y_test_p, y_pred_p)\n",
        "\n",
        "# Extract TP, TN, FP, FN\n",
        "TN, FP, FN, TP = conf_matrix.ravel()\n",
        "\n",
        "# Calculate TPR, FPR, TNR, FNR\n",
        "TPR = TP / (TP + FN)  # True Positive Rate (Recall)\n",
        "FPR = FP / (FP + TN)  # False Positive Rate\n",
        "TNR = TN / (TN + FP)  # True Negative Rate\n",
        "FNR = FN / (FN + TP)  # False Negative Rate\n",
        "\n",
        "# Print the counts\n",
        "print(f\"True Positives (TP): {TP}\")\n",
        "print(f\"True Negatives (TN): {TN}\")\n",
        "print(f\"False Positives (FP): {FP}\")\n",
        "print(f\"False Negatives (FN): {FN}\")\n",
        "\n",
        "# Print the percentages\n",
        "print(f\"True Positive Rate (TPR): {TPR:.2%}\")\n",
        "print(f\"False Positive Rate (FPR): {FPR:.2%}\")\n",
        "print(f\"True Negative Rate (TNR): {TNR:.2%}\")\n",
        "print(f\"False Negative Rate (FNR): {FNR:.2%}\")\n"
      ],
      "metadata": {
        "colab": {
          "base_uri": "https://localhost:8080/"
        },
        "id": "Y3spMQ9WlPGv",
        "outputId": "e3d7d984-7b17-4764-e4db-51207f71ed47"
      },
      "execution_count": null,
      "outputs": [
        {
          "output_type": "stream",
          "name": "stdout",
          "text": [
            "Accuracy:  0.7647647647647647\n",
            "Precision:  0.8052434456928839\n",
            "Recall:  0.7664884135472371\n",
            "999\n",
            "True Positives (TP): 430\n",
            "True Negatives (TN): 334\n",
            "False Positives (FP): 104\n",
            "False Negatives (FN): 131\n",
            "True Positive Rate (TPR): 76.65%\n",
            "False Positive Rate (FPR): 23.74%\n",
            "True Negative Rate (TNR): 76.26%\n",
            "False Negative Rate (FNR): 23.35%\n",
            "Unprivileged Group Metrics:\n",
            "Accuracy:  0.7096774193548387\n",
            "Precision:  0.6216216216216216\n",
            "Recall:  0.8518518518518519\n",
            "True Positives (TP): 430\n",
            "True Negatives (TN): 334\n",
            "False Positives (FP): 104\n",
            "False Negatives (FN): 131\n",
            "True Positive Rate (TPR): 76.65%\n",
            "False Positive Rate (FPR): 23.74%\n",
            "True Negative Rate (TNR): 76.26%\n",
            "False Negative Rate (FNR): 23.35%\n",
            "62\n",
            "Privileged Group Metrics:\n",
            "Accuracy:  0.7678185745140389\n",
            "Precision:  0.8167006109979633\n",
            "Recall:  0.7623574144486692\n",
            "True Positives (TP): 401\n",
            "True Negatives (TN): 310\n",
            "False Positives (FP): 90\n",
            "False Negatives (FN): 125\n",
            "True Positive Rate (TPR): 76.24%\n",
            "False Positive Rate (FPR): 22.50%\n",
            "True Negative Rate (TNR): 77.50%\n",
            "False Negative Rate (FNR): 23.76%\n"
          ]
        }
      ]
    },
    {
      "cell_type": "markdown",
      "source": [
        "Checking if there is selection bias"
      ],
      "metadata": {
        "id": "H8pEVzoUARmq"
      }
    },
    {
      "cell_type": "code",
      "source": [
        "mean_YearsCode = Emp_df['YearsCode'].mean()\n",
        "mean_ComputerSkills = Emp_df['ComputerSkills'].mean()\n",
        "print(mean_YearsCode)\n",
        "print(mean_ComputerSkills)\n",
        "num_females_above_mean = Emp_df[(Emp_df['Gender'] == 0) & (Emp_df['YearsCode'] > mean_YearsCode) & (Emp_df['ComputerSkills']>mean_ComputerSkills)].shape[0]\n",
        "print(f\"Number of females with applicant income more than mean income: {num_females_above_mean}\")\n",
        "\n",
        "num_males_above_mean = Emp_df[(Emp_df['Gender'] == 1) & (Emp_df['YearsCode'] > mean_YearsCode) & (Emp_df['ComputerSkills']>mean_ComputerSkills)].shape[0]\n",
        "print(f\"Number of males with applicant income more than mean income: {num_males_above_mean}\")\n",
        "\n",
        "num_females_above_mean_loan_approved = Emp_df[(Emp_df['Gender'] == 0) & (Emp_df['YearsCode'] > mean_YearsCode) & (Emp_df['ComputerSkills']>mean_ComputerSkills) & (Emp_df['Employed']==1)].shape[0]\n",
        "print(f\"Number of females with applicant income more than mean income and loan approved: {num_females_above_mean_loan_approved}\")\n",
        "\n",
        "num_males_above_mean_loan_approved = Emp_df[(Emp_df['Gender'] == 1) & (Emp_df['YearsCode'] > mean_YearsCode) & (Emp_df['ComputerSkills']>mean_ComputerSkills) & (Emp_df['Employed']==1)].shape[0]\n",
        "print(f\"Number of males with applicant income more than mean income and loan approved: {num_males_above_mean_loan_approved}\")\n",
        "\n",
        "print(num_females_above_mean_loan_approved/num_females_above_mean)\n",
        "print(num_males_above_mean_loan_approved/num_males_above_mean)\n",
        "print((num_females_above_mean_loan_approved/num_females_above_mean)/(num_males_above_mean_loan_approved/num_males_above_mean))\n"
      ],
      "metadata": {
        "colab": {
          "base_uri": "https://localhost:8080/"
        },
        "id": "nEqtolcfcxeH",
        "outputId": "e1b661f2-49b6-44ba-9b1a-13bb02a25992"
      },
      "execution_count": null,
      "outputs": [
        {
          "output_type": "stream",
          "name": "stdout",
          "text": [
            "14.446535843011613\n",
            "13.535642771325591\n",
            "Number of females with applicant income more than mean income: 17\n",
            "Number of males with applicant income more than mean income: 834\n",
            "Number of females with applicant income more than mean income and loan approved: 13\n",
            "Number of males with applicant income more than mean income and loan approved: 694\n",
            "0.7647058823529411\n",
            "0.8321342925659473\n",
            "0.9189693168333615\n"
          ]
        }
      ]
    },
    {
      "cell_type": "code",
      "source": [
        "mean_YearsCode = Emp_df['YearsCode'].mean()\n",
        "mean_ComputerSkills = Emp_df['ComputerSkills'].mean()\n",
        "print(mean_YearsCode)\n",
        "print(mean_ComputerSkills)\n",
        "num_females_above_mean = Emp_df[(Emp_df['Gender'] == 0) & (Emp_df['ComputerSkills']>mean_ComputerSkills)].shape[0]\n",
        "print(f\"Number of females with applicant income more than mean income: {num_females_above_mean}\")\n",
        "\n",
        "num_males_above_mean = Emp_df[(Emp_df['Gender'] == 1) & (Emp_df['ComputerSkills']>mean_ComputerSkills)].shape[0]\n",
        "print(f\"Number of males with applicant income more than mean income: {num_males_above_mean}\")\n",
        "\n",
        "num_females_above_mean_loan_approved = Emp_df[(Emp_df['Gender'] == 0) & (Emp_df['ComputerSkills']>mean_ComputerSkills) & (Emp_df['Employed']==1)].shape[0]\n",
        "print(f\"Number of females with applicant income more than mean income and loan approved: {num_females_above_mean_loan_approved}\")\n",
        "\n",
        "num_males_above_mean_loan_approved = Emp_df[(Emp_df['Gender'] == 1) & (Emp_df['ComputerSkills']>mean_ComputerSkills) & (Emp_df['Employed']==1)].shape[0]\n",
        "print(f\"Number of males with applicant income more than mean income and loan approved: {num_males_above_mean_loan_approved}\")\n",
        "\n",
        "print(num_females_above_mean_loan_approved/num_females_above_mean)\n",
        "print(num_males_above_mean_loan_approved/num_males_above_mean)\n",
        "print((num_females_above_mean_loan_approved/num_females_above_mean)/(num_males_above_mean_loan_approved/num_males_above_mean))"
      ],
      "metadata": {
        "colab": {
          "base_uri": "https://localhost:8080/"
        },
        "id": "TwNZoL_3dzCt",
        "outputId": "aa8f0605-e696-435f-f425-4e452c14045c"
      },
      "execution_count": null,
      "outputs": [
        {
          "output_type": "stream",
          "name": "stdout",
          "text": [
            "14.446535843011613\n",
            "13.535642771325591\n",
            "Number of females with applicant income more than mean income: 91\n",
            "Number of males with applicant income more than mean income: 2111\n",
            "Number of females with applicant income more than mean income and loan approved: 74\n",
            "Number of males with applicant income more than mean income and loan approved: 1781\n",
            "0.8131868131868132\n",
            "0.8436759829464708\n",
            "0.9638615174830785\n"
          ]
        }
      ]
    },
    {
      "cell_type": "code",
      "source": [
        "mean_YearsCode = Emp_df['YearsCode'].mean()\n",
        "mean_ComputerSkills = Emp_df['ComputerSkills'].mean()\n",
        "print(mean_YearsCode)\n",
        "print(mean_ComputerSkills)\n",
        "num_females_above_mean = Emp_df[(Emp_df['Gender'] == 0) & (Emp_df['YearsCode'] > mean_YearsCode)].shape[0]\n",
        "print(f\"Number of females with applicant income more than mean income: {num_females_above_mean}\")\n",
        "\n",
        "num_males_above_mean = Emp_df[(Emp_df['Gender'] == 1) & (Emp_df['YearsCode'] > mean_YearsCode)].shape[0]\n",
        "print(f\"Number of males with applicant income more than mean income: {num_males_above_mean}\")\n",
        "\n",
        "num_females_above_mean_loan_approved = Emp_df[(Emp_df['Gender'] == 0) & (Emp_df['YearsCode'] > mean_YearsCode) & (Emp_df['Employed']==1)].shape[0]\n",
        "print(f\"Number of females with applicant income more than mean income and loan approved: {num_females_above_mean_loan_approved}\")\n",
        "\n",
        "num_males_above_mean_loan_approved = Emp_df[(Emp_df['Gender'] == 1) & (Emp_df['YearsCode'] > mean_YearsCode) & (Emp_df['Employed']==1)].shape[0]\n",
        "print(f\"Number of males with applicant income more than mean income and loan approved: {num_males_above_mean_loan_approved}\")\n",
        "\n",
        "print(num_females_above_mean_loan_approved/num_females_above_mean)\n",
        "print(num_males_above_mean_loan_approved/num_males_above_mean)\n",
        "print((num_females_above_mean_loan_approved/num_females_above_mean)/(num_males_above_mean_loan_approved/num_males_above_mean))\n"
      ],
      "metadata": {
        "colab": {
          "base_uri": "https://localhost:8080/"
        },
        "id": "mftRfp4YeFbJ",
        "outputId": "8102ec1a-7d46-4783-cb96-c09622c75a6b"
      },
      "execution_count": null,
      "outputs": [
        {
          "output_type": "stream",
          "name": "stdout",
          "text": [
            "14.446535843011613\n",
            "13.535642771325591\n",
            "Number of females with applicant income more than mean income: 68\n",
            "Number of males with applicant income more than mean income: 1880\n",
            "Number of females with applicant income more than mean income and loan approved: 30\n",
            "Number of males with applicant income more than mean income and loan approved: 1001\n",
            "0.4411764705882353\n",
            "0.5324468085106383\n",
            "0.828583181524358\n"
          ]
        }
      ]
    },
    {
      "cell_type": "markdown",
      "source": [
        "Applying AIF360 and checking disparate impact ratio on transformed data"
      ],
      "metadata": {
        "id": "cVOGITCQjvRj"
      }
    },
    {
      "cell_type": "code",
      "source": [
        "from aif360.datasets import BinaryLabelDataset\n",
        "from aif360.metrics import BinaryLabelDatasetMetric\n",
        "from aif360.algorithms.preprocessing import Reweighing\n",
        "from sklearn import preprocessing\n",
        "import pandas as pd\n",
        "\n",
        "data_encoded = Emp_df.copy(deep=True)\n",
        "\n",
        "data_encoded.loc[data_encoded['Employed'] == 'Yes', 'Employed'] = 1\n",
        "data_encoded.loc[data_encoded['Employed'] == 'No', 'Employed'] = 0\n",
        "data_encoded.loc[data_encoded['Gender'] == 'Man', 'Gender'] = 1\n",
        "data_encoded.loc[data_encoded['Gender'] == 'Woman', 'Gender'] = 0\n",
        "data_encoded.loc[data_encoded['Gender'] == 'NonBinary', 'Gender'] = 2\n",
        "favorable_label = 1\n",
        "unfavorable_label = 0\n",
        "unprivileged_groups = [{'Gender': 0}]\n",
        "privileged_groups = [{'Gender': 1}]\n",
        "\n",
        "cred_dataset = BinaryLabelDataset(\n",
        "    favorable_label=favorable_label,\n",
        "    unfavorable_label=unfavorable_label,\n",
        "    df=data_encoded,\n",
        "    label_names=['Employed'],\n",
        "    protected_attribute_names=['Gender']\n",
        ")\n",
        "\n",
        "\n",
        "RW = Reweighing(unprivileged_groups=unprivileged_groups,\n",
        "                privileged_groups=privileged_groups)\n",
        "RW.fit(cred_dataset)\n",
        "train_tf_dataset = RW.transform(cred_dataset)\n",
        "\n",
        "metric_transformed_train = BinaryLabelDatasetMetric(train_tf_dataset,\n",
        "                                                    unprivileged_groups=unprivileged_groups,\n",
        "                                                    privileged_groups=privileged_groups)\n",
        "\n",
        "\n",
        "disparate_impact_ratio = metric_transformed_train.disparate_impact()\n",
        "print(\"Disparate Impact Ratio (after transformation):\", disparate_impact_ratio)\n",
        "\n",
        "\n",
        "\n",
        "\n",
        "\n",
        "\n"
      ],
      "metadata": {
        "id": "169C5ND_BFbG",
        "colab": {
          "base_uri": "https://localhost:8080/"
        },
        "outputId": "47afd62a-0e14-4b4b-dd9b-30be1a286ecf"
      },
      "execution_count": null,
      "outputs": [
        {
          "output_type": "stream",
          "name": "stdout",
          "text": [
            "Disparate Impact Ratio (after transformation): 1.0000000000000004\n"
          ]
        }
      ]
    },
    {
      "cell_type": "markdown",
      "source": [
        "Fitting model and checking accuracies for different groups on transformed data"
      ],
      "metadata": {
        "id": "rXzYMrmOW_E7"
      }
    },
    {
      "cell_type": "code",
      "source": [
        "from sklearn.preprocessing import StandardScaler\n",
        "transformed = train_tf_dataset.convert_to_dataframe()[0]\n",
        "x_trans = transformed.drop(['Employed'], axis = 1)\n",
        "y_trans = transformed['Employed']\n",
        "scaler = StandardScaler()\n",
        "data_std = scaler.fit_transform(x_trans)\n",
        "x_trans_train,x_trans_test,y_trans_train,y_trans_test = train_test_split(x_trans, y_trans, test_size=0.2, random_state = 0)\n",
        "\n",
        "model.fit(x_trans_train, y_trans_train)\n",
        "y_trans_pred=model.predict(x_trans_test)\n",
        "print(\"Accuracy: \", metrics.accuracy_score(y_trans_test,y_trans_pred))\n",
        "print(\"Precision: \", metrics.precision_score(y_trans_test,y_trans_pred))\n",
        "print(\"Recall: \", metrics.recall_score(y_trans_test,y_trans_pred))\n",
        "print(len(x_trans_test))\n",
        "print(len(y_trans_test))\n",
        "conf_matrix = confusion_matrix(y_trans_test, y_trans_pred)\n",
        "\n",
        "# Extract TP, TN, FP, FN\n",
        "TN, FP, FN, TP = conf_matrix.ravel()\n",
        "\n",
        "# Calculate TPR, FPR, TNR, FNR\n",
        "TPR = TP / (TP + FN)  # True Positive Rate (Recall)\n",
        "FPR = FP / (FP + TN)  # False Positive Rate\n",
        "TNR = TN / (TN + FP)  # True Negative Rate\n",
        "FNR = FN / (FN + TP)  # False Negative Rate\n",
        "\n",
        "# Print the counts\n",
        "print(f\"True Positives (TP): {TP}\")\n",
        "print(f\"True Negatives (TN): {TN}\")\n",
        "print(f\"False Positives (FP): {FP}\")\n",
        "print(f\"False Negatives (FN): {FN}\")\n",
        "\n",
        "# Print the percentages\n",
        "print(f\"True Positive Rate (TPR): {TPR:.2%}\")\n",
        "print(f\"False Positive Rate (FPR): {FPR:.2%}\")\n",
        "print(f\"True Negative Rate (TNR): {TNR:.2%}\")\n",
        "print(f\"False Negative Rate (FNR): {FNR:.2%}\")\n",
        "\n",
        "####Unprivileged\n",
        "x_test_up = x_trans_test.loc[x_trans_test['Gender'] == 0]\n",
        "y_test_up = y_trans_test.loc[x_test_up.index]\n",
        "print(len(x_test_up))\n",
        "print(len(y_test_up))\n",
        "if not x_test_up.empty:\n",
        "    y_pred_up = model.predict(x_test_up)\n",
        "    print(\"Unprivileged Group Metrics:\")\n",
        "    print(\"Accuracy: \", metrics.accuracy_score(y_test_up, y_pred_up))\n",
        "    print(\"Precision: \", metrics.precision_score(y_test_up, y_pred_up))\n",
        "    print(\"Recall: \", metrics.recall_score(y_test_up, y_pred_up))\n",
        "else:\n",
        "    print(\"No samples found for the unprivileged group.\")\n",
        "\n",
        "conf_matrix = confusion_matrix(y_test_up, y_pred_up)\n",
        "\n",
        "# Extract TP, TN, FP, FN\n",
        "TN, FP, FN, TP = conf_matrix.ravel()\n",
        "\n",
        "# Calculate TPR, FPR, TNR, FNR\n",
        "TPR = TP / (TP + FN)  # True Positive Rate (Recall)\n",
        "FPR = FP / (FP + TN)  # False Positive Rate\n",
        "TNR = TN / (TN + FP)  # True Negative Rate\n",
        "FNR = FN / (FN + TP)  # False Negative Rate\n",
        "\n",
        "# Print the counts\n",
        "print(f\"True Positives (TP): {TP}\")\n",
        "print(f\"True Negatives (TN): {TN}\")\n",
        "print(f\"False Positives (FP): {FP}\")\n",
        "print(f\"False Negatives (FN): {FN}\")\n",
        "\n",
        "# Print the percentages\n",
        "print(f\"True Positive Rate (TPR): {TPR:.2%}\")\n",
        "print(f\"False Positive Rate (FPR): {FPR:.2%}\")\n",
        "print(f\"True Negative Rate (TNR): {TNR:.2%}\")\n",
        "print(f\"False Negative Rate (FNR): {FNR:.2%}\")\n",
        "\n",
        "####Privileged\n",
        "x_test_p = x_trans_test.loc[x_trans_test['Gender'] == 1]\n",
        "y_test_p = y_trans_test.loc[x_test_p.index]\n",
        "if not x_test_p.empty:\n",
        "    y_pred_p = model.predict(x_test_p)\n",
        "    print(\"Privileged Group Metrics:\")\n",
        "    print(\"Accuracy: \", metrics.accuracy_score(y_test_p, y_pred_p))\n",
        "    print(\"Precision: \", metrics.precision_score(y_test_p, y_pred_p))\n",
        "    print(\"Recall: \", metrics.recall_score(y_test_p, y_pred_p))\n",
        "else:\n",
        "    print(\"No samples found for the unprivileged group.\")\n",
        "\n",
        "conf_matrix = confusion_matrix(y_test_p, y_pred_p)\n",
        "\n",
        "# Extract TP, TN, FP, FN\n",
        "TN, FP, FN, TP = conf_matrix.ravel()\n",
        "\n",
        "# Calculate TPR, FPR, TNR, FNR\n",
        "TPR = TP / (TP + FN)  # True Positive Rate (Recall)\n",
        "FPR = FP / (FP + TN)  # False Positive Rate\n",
        "TNR = TN / (TN + FP)  # True Negative Rate\n",
        "FNR = FN / (FN + TP)  # False Negative Rate\n",
        "\n",
        "# Print the counts\n",
        "print(f\"True Positives (TP): {TP}\")\n",
        "print(f\"True Negatives (TN): {TN}\")\n",
        "print(f\"False Positives (FP): {FP}\")\n",
        "print(f\"False Negatives (FN): {FN}\")\n",
        "\n",
        "# Print the percentages\n",
        "print(f\"True Positive Rate (TPR): {TPR:.2%}\")\n",
        "print(f\"False Positive Rate (FPR): {FPR:.2%}\")\n",
        "print(f\"True Negative Rate (TNR): {TNR:.2%}\")\n",
        "print(f\"False Negative Rate (FNR): {FNR:.2%}\")\n",
        "\n"
      ],
      "metadata": {
        "colab": {
          "base_uri": "https://localhost:8080/"
        },
        "id": "xSgimBxhV37f",
        "outputId": "f488faf7-1d94-49d3-9f6b-74c2a4875c20"
      },
      "execution_count": null,
      "outputs": [
        {
          "output_type": "stream",
          "name": "stdout",
          "text": [
            "Accuracy:  0.7737737737737738\n",
            "Precision:  0.8\n",
            "Recall:  0.7637051039697542\n",
            "999\n",
            "999\n",
            "True Positives (TP): 404\n",
            "True Negatives (TN): 369\n",
            "False Positives (FP): 101\n",
            "False Negatives (FN): 125\n",
            "True Positive Rate (TPR): 76.37%\n",
            "False Positive Rate (FPR): 21.49%\n",
            "True Negative Rate (TNR): 78.51%\n",
            "False Negative Rate (FNR): 23.63%\n",
            "55\n",
            "55\n",
            "Unprivileged Group Metrics:\n",
            "Accuracy:  0.8181818181818182\n",
            "Precision:  0.7777777777777778\n",
            "Recall:  0.84\n",
            "True Positives (TP): 21\n",
            "True Negatives (TN): 24\n",
            "False Positives (FP): 6\n",
            "False Negatives (FN): 4\n",
            "True Positive Rate (TPR): 84.00%\n",
            "False Positive Rate (FPR): 20.00%\n",
            "True Negative Rate (TNR): 80.00%\n",
            "False Negative Rate (FNR): 16.00%\n",
            "Privileged Group Metrics:\n",
            "Accuracy:  0.7730727470141151\n",
            "Precision:  0.8017057569296375\n",
            "Recall:  0.7642276422764228\n",
            "True Positives (TP): 376\n",
            "True Negatives (TN): 336\n",
            "False Positives (FP): 93\n",
            "False Negatives (FN): 116\n",
            "True Positive Rate (TPR): 76.42%\n",
            "False Positive Rate (FPR): 21.68%\n",
            "True Negative Rate (TNR): 78.32%\n",
            "False Negative Rate (FNR): 23.58%\n"
          ]
        }
      ]
    },
    {
      "cell_type": "markdown",
      "source": [
        "Usecase 3 - COMPAS"
      ],
      "metadata": {
        "id": "gbKfoBvCNqMr"
      }
    },
    {
      "cell_type": "code",
      "source": [
        "import numpy as npy\n",
        "import pandas as pds\n",
        "import matplotlib.pyplot as plt\n",
        "import seaborn as sns\n",
        "compas_data = pds.read_csv('/content/cox-violent-parsed.csv')\n",
        "total_count = len(compas_data)\n",
        "print(total_count)\n",
        "columns_to_keep = ['age', 'race', 'sex', 'c_charge_degree', 'c_charge_desc',\n",
        "                   'juv_fel_count', 'juv_misd_count', 'priors_count', 'is_recid']\n",
        "compas_data = compas_data[columns_to_keep]\n",
        "compas_data = compas_data[(compas_data['race'] == 'Caucasian') | (compas_data['race'] == 'African-American')]\n",
        "compas_data = compas_data[compas_data['is_recid'] != -1]\n",
        "total_count_2=len(compas_data)\n",
        "print(total_count_2)\n",
        "male_count = compas_data['sex'][compas_data['sex'] == 'Male'].count()\n",
        "female_count = compas_data['sex'][compas_data['sex'] == 'Female'].count()\n",
        "african_american_count = compas_data['race'][compas_data['race'] == 'African-American'].count()\n",
        "caucasian_count = compas_data['race'][compas_data['race'] == 'Caucasian'].count()\n",
        "african_american_percentage = (african_american_count / total_count) * 100\n",
        "caucasian_percentage = (caucasian_count / total_count) * 100\n",
        "male_percentage = (male_count / total_count) * 100\n",
        "female_percentage = (female_count / total_count) * 100\n",
        "print(f\"Total count: {total_count}\")\n",
        "print(\"Male Count:\", male_count)\n",
        "print(\"Male Percentage:\", male_percentage, \"%\")\n",
        "print(\"\\nFemale Count:\", female_count)\n",
        "print(\"Female Percentage:\", female_percentage, \"%\")\n",
        "print(\"African-American Count:\", african_american_count)\n",
        "print(\"African-American Percentage:\", african_american_percentage, \"%\")\n",
        "print(\"\\nCaucasian Count:\", caucasian_count)\n",
        "print(\"Caucasian Percentage:\", caucasian_percentage, \"%\")\n",
        "for race in compas_data['race'].unique():\n",
        "    print(f\"\\nRace: {race}\")\n",
        "    for sex in compas_data['sex'].unique():\n",
        "        count = compas_data[(compas_data['race'] == race) & (compas_data['sex'] == sex)].shape[0]\n",
        "        percentage = (count / total_count) * 100\n",
        "        print(f\"  {sex} Count: {count}\")\n",
        "        print(f\"  {sex} Percentage: {percentage:.2f}%\")\n",
        "# charge_desc_counts = compas_data['c_charge_desc'].value_counts()\n",
        "# total_count = len(compas_data)\n",
        "# charge_desc_percentages = (charge_desc_counts / total_count) * 100\n",
        "# for desc, count in charge_desc_counts.items():\n",
        "#     percentage = charge_desc_percentages[desc]\n",
        "#     print(f\"{desc}: Count = {count}, Percentage = {percentage:.2f}%\")\n",
        "# Create the histogram for age cat\n",
        "plt.hist(compas_data['age'], bins=20, edgecolor='black')\n",
        "plt.xlabel('Age')\n",
        "plt.ylabel('Count')\n",
        "#plt.title('Distribution of Age')\n",
        "plt.show()\n",
        "# Plot the histogram for agexrace\n",
        "sns.histplot(data=compas_data, x='age', hue='race', common_norm=False, stat='density', kde=True)\n",
        "plt.xlabel('Age')\n",
        "plt.ylabel('Density')\n",
        "#plt.title('Distribution of Age by Race')\n",
        "plt.show()\n",
        "# Plot the boxplot\n",
        "compas_data_melted = compas_data.melt(value_vars=['juv_fel_count', 'juv_misd_count', 'priors_count'], var_name='Offense Type', value_name='Count')\n",
        "plt.figure(figsize=(10, 6))\n",
        "sns.boxplot(x='Offense Type', y='Count', data=compas_data_melted)\n",
        "#plt.title('Distribution of Offense Counts')\n",
        "#plt.xlabel('Offense Type')\n",
        "plt.ylabel('Count')\n",
        "plt.show()\n",
        "# Plot the histogram using Seaborn\n",
        "plt.figure(figsize=(8, 6))\n",
        "sns.countplot(x='is_recid', data=compas_data, hue='race', palette='Set2')\n",
        "#plt.title('Recidivism Distribution by Race')\n",
        "plt.xlabel('Recidivism')\n",
        "plt.ylabel('Count')\n",
        "plt.legend(title='Race', loc='upper right')\n",
        "plt.show()\n",
        "\n",
        "compas_data.describe(include='all')\n",
        "compas_data.dropna(how='any',axis=0, inplace=True)\n",
        "\n",
        "compas_data_copy=compas_data.copy(deep=True)\n",
        "compas_data.info()\n",
        "target_counts=compas_data['is_recid'].value_counts()\n",
        "print(target_counts)\n",
        "\n",
        "plt.figure(figsize=(8, 6))\n",
        "sns.countplot(x='is_recid', data=compas_data, hue='race', palette='Set2')\n",
        "plt.title('Race vs. likelihood of recidivism')\n",
        "plt.xlabel('Race')\n",
        "plt.ylabel('Recidivate')\n",
        "plt.legend(title='Race', loc='upper right')\n",
        "plt.show()\n",
        "\n",
        "compas_data.loc[compas_data.race=='Caucasian','race']=1\n",
        "compas_data.loc[compas_data.race=='African-American','race']=0\n",
        "\n",
        "priviliged=compas_data[compas_data['race']==1].shape[0]\n",
        "print(f\"Number of priviliged (Caucasian): {priviliged}\")\n",
        "unpriviliged=compas_data[compas_data['race']==0].shape[0]\n",
        "print(f\"Number of unpriviliged (African-American): {unpriviliged}\")\n",
        "\n",
        "unpriviliged_data=compas_data[(compas_data['is_recid']==0)&(compas_data['race']==0)].shape[0]\n",
        "print(f\"Number of unprivileged individuals (African-American) accused of recidivism: {unpriviliged_data}\")\n",
        "\n",
        "priviliged_data=compas_data[(compas_data['is_recid']==0)&(compas_data['race']==1)].shape[0]\n",
        "print(f\"Number of privileged individuals (Caucasian) accused of recidivism: {priviliged_data}\")\n",
        "\n",
        "unpriviliged_data_ratio=unpriviliged_data/unpriviliged\n",
        "print(f\"The ratio of the 'Number of unprivileged individuals (African-American) accused of recidivism' to the 'Total number of unpriviliged (African-American)' is {unpriviliged_data_ratio}\")\n",
        "\n",
        "priviliged_data_ratio=priviliged_data/priviliged\n",
        "print(f\"The ratio of the 'Number of privileged individuals (Caucasian) accused of recidivism' to the 'Total number of priviliged (Caucasian)' is {priviliged_data_ratio}\")\n",
        "\n",
        "calc_disparate_impact=unpriviliged_data_ratio/priviliged_data_ratio\n",
        "print(f\"Disparate Impact Ratio is {calc_disparate_impact}\")\n",
        "\n",
        "if calc_disparate_impact<0.8:\n",
        "  print(\"***Favours the privileged group***\")\n",
        "elif calc_disparate_impact==1:\n",
        "  print(\"***No bias found***\")\n",
        "elif calc_disparate_impact>1:\n",
        "  print(\"***Favours the unprivileged group***\")\n"
      ],
      "metadata": {
        "colab": {
          "base_uri": "https://localhost:8080/",
          "height": 1000
        },
        "id": "4wk1YJ8Jzfd5",
        "outputId": "f8382cca-319b-4509-ab6e-644f3921b202"
      },
      "execution_count": null,
      "outputs": [
        {
          "output_type": "stream",
          "name": "stdout",
          "text": [
            "18316\n",
            "15201\n",
            "Total count: 18316\n",
            "Male Count: 12324\n",
            "Male Percentage: 67.28543350076436 %\n",
            "\n",
            "Female Count: 2877\n",
            "Female Percentage: 15.707578073815242 %\n",
            "African-American Count: 9419\n",
            "African-American Percentage: 51.42498362087792 %\n",
            "\n",
            "Caucasian Count: 5782\n",
            "Caucasian Percentage: 31.568027953701684 %\n",
            "\n",
            "Race: African-American\n",
            "  Male Count: 7947\n",
            "  Male Percentage: 43.39%\n",
            "  Female Count: 1472\n",
            "  Female Percentage: 8.04%\n",
            "\n",
            "Race: Caucasian\n",
            "  Male Count: 4377\n",
            "  Male Percentage: 23.90%\n",
            "  Female Count: 1405\n",
            "  Female Percentage: 7.67%\n"
          ]
        },
        {
          "output_type": "display_data",
          "data": {
            "text/plain": [
              "<Figure size 640x480 with 1 Axes>"
            ],
            "image/png": "[encoded data removed]"
          },
          "metadata": {}
        },
        {
          "output_type": "display_data",
          "data": {
            "text/plain": [
              "<Figure size 640x480 with 1 Axes>"
            ],
            "image/png": "[encoded data removed]"
          },
          "metadata": {}
        },
        {
          "output_type": "display_data",
          "data": {
            "text/plain": [
              "<Figure size 1000x600 with 1 Axes>"
            ],
            "image/png": "[encoded data removed]"
          },
          "metadata": {}
        },
        {
          "output_type": "display_data",
          "data": {
            "text/plain": [
              "<Figure size 800x600 with 1 Axes>"
            ],
            "image/png": "[encoded data removed]"
          },
          "metadata": {}
        },
        {
          "output_type": "stream",
          "name": "stdout",
          "text": [
            "<class 'pandas.core.frame.DataFrame'>\n",
            "Index: 15151 entries, 3 to 18313\n",
            "Data columns (total 9 columns):\n",
            " #   Column           Non-Null Count  Dtype \n",
            "---  ------           --------------  ----- \n",
            " 0   age              15151 non-null  int64 \n",
            " 1   race             15151 non-null  object\n",
            " 2   sex              15151 non-null  object\n",
            " 3   c_charge_degree  15151 non-null  object\n",
            " 4   c_charge_desc    15151 non-null  object\n",
            " 5   juv_fel_count    15151 non-null  int64 \n",
            " 6   juv_misd_count   15151 non-null  int64 \n",
            " 7   priors_count     15151 non-null  int64 \n",
            " 8   is_recid         15151 non-null  int64 \n",
            "dtypes: int64(5), object(4)\n",
            "memory usage: 1.2+ MB\n",
            "is_recid\n",
            "0    7631\n",
            "1    7520\n",
            "Name: count, dtype: int64\n"
          ]
        },
        {
          "output_type": "display_data",
          "data": {
            "text/plain": [
              "<Figure size 800x600 with 1 Axes>"
            ],
            "image/png": "[encoded data removed]"
          },
          "metadata": {}
        },
        {
          "output_type": "stream",
          "name": "stdout",
          "text": [
            "Number of priviliged (Caucasian): 5757\n",
            "Number of unpriviliged (African-American): 9394\n",
            "Number of unprivileged individuals (African-American) accused of recidivism: 4329\n",
            "Number of privileged individuals (Caucasian) accused of recidivism: 3302\n",
            "The ratio of the 'Number of unprivileged individuals (African-American) accused of recidivism' to the 'Total number of unpriviliged (African-American)' is 0.46082605918671493\n",
            "The ratio of the 'Number of privileged individuals (Caucasian) accused of recidivism' to the 'Total number of priviliged (Caucasian)' is 0.5735626194198368\n",
            "Disparate Impact Ratio is 0.8034450704839242\n"
          ]
        }
      ]
    },
    {
      "cell_type": "markdown",
      "source": [
        "Model fitting and slicing on raw data before transformation"
      ],
      "metadata": {
        "id": "bTh250DcYzhw"
      }
    },
    {
      "cell_type": "code",
      "source": [
        "categorical_columns=['c_charge_degree', 'c_charge_desc','sex']\n",
        "\n",
        "for feature in categorical_columns:\n",
        "    onehot = pds.get_dummies(compas_data[feature], prefix=feature)\n",
        "    compas_data = compas_data.drop(feature, axis=1)\n",
        "    compas_data = compas_data.join(onehot)\n",
        "\n",
        "x = compas_data.drop(['is_recid'], axis=1)\n",
        "y = compas_data['is_recid']\n",
        "from sklearn.preprocessing import StandardScaler\n",
        "scaler = StandardScaler()\n",
        "data_std = scaler.fit_transform(x)\n",
        "x = pds.DataFrame(data_std, columns=x.columns)\n",
        "#We will follow an 80-20 split pattern for our training and test data, respectively\n",
        "x_train,x_test,y_train,y_test = train_test_split(x, y, test_size=0.2, random_state = 171)\n",
        "\n",
        "from sklearn.linear_model import LogisticRegression\n",
        "model=LogisticRegression(solver='liblinear', class_weight='balanced')\n",
        "model.fit(x_train,y_train)\n",
        "y_pred=model.predict(x_test)\n",
        "import matplotlib.pyplot as plt\n",
        "from sklearn import metrics\n",
        "print(\"Accuracy: \", metrics.accuracy_score(y_test,y_pred))\n",
        "print(\"Precision: \", metrics.precision_score(y_test,y_pred))\n",
        "print(\"Recall: \", metrics.recall_score(y_test,y_pred))\n",
        "\n",
        "conf_matrix = confusion_matrix(y_test, y_pred)\n",
        "\n",
        "# Extract TP, TN, FP, FN\n",
        "TN, FP, FN, TP = conf_matrix.ravel()\n",
        "\n",
        "# Calculate TPR, FPR, TNR, FNR\n",
        "TPR = TP / (TP + FN)  # True Positive Rate (Recall)\n",
        "FPR = FP / (FP + TN)  # False Positive Rate\n",
        "TNR = TN / (TN + FP)  # True Negative Rate\n",
        "FNR = FN / (FN + TP)  # False Negative Rate\n",
        "\n",
        "# Print the counts\n",
        "print(f\"True Positives (TP): {TP}\")\n",
        "print(f\"True Negatives (TN): {TN}\")\n",
        "print(f\"False Positives (FP): {FP}\")\n",
        "print(f\"False Negatives (FN): {FN}\")\n",
        "\n",
        "# Print the percentages\n",
        "print(f\"True Positive Rate (TPR): {TPR:.2%}\")\n",
        "print(f\"False Positive Rate (FPR): {FPR:.2%}\")\n",
        "print(f\"True Negative Rate (TNR): {TNR:.2%}\")\n",
        "print(f\"False Negative Rate (FNR): {FNR:.2%}\")\n",
        "\n",
        "####Unprivileged\n",
        "x_test_up = x_test.loc[x_test['race'] <= 0]\n",
        "y_test_up = y_test.reindex(x_test_up.index)\n",
        "y_test_up = y_test_up.dropna()\n",
        "x_test_up = x_test_up.loc[y_test_up.index]\n",
        "if not x_test_up.empty:\n",
        "    y_pred_up = model.predict(x_test_up)\n",
        "    print(\"Unprivileged Group Metrics:\")\n",
        "    print(\"Accuracy: \", metrics.accuracy_score(y_test_up, y_pred_up))\n",
        "    print(\"Precision: \", metrics.precision_score(y_test_up, y_pred_up))\n",
        "    print(\"Recall: \", metrics.recall_score(y_test_up, y_pred_up))\n",
        "else:\n",
        "    print(\"No samples found for the unprivileged group.\")\n",
        "\n",
        "conf_matrix = confusion_matrix(y_test_up, y_pred_up)\n",
        "\n",
        "# Extract TP, TN, FP, FN\n",
        "TN, FP, FN, TP = conf_matrix.ravel()\n",
        "\n",
        "# Calculate TPR, FPR, TNR, FNR\n",
        "TPR = TP / (TP + FN)  # True Positive Rate (Recall)\n",
        "FPR = FP / (FP + TN)  # False Positive Rate\n",
        "TNR = TN / (TN + FP)  # True Negative Rate\n",
        "FNR = FN / (FN + TP)  # False Negative Rate\n",
        "\n",
        "# Print the counts\n",
        "print(f\"True Positives (TP): {TP}\")\n",
        "print(f\"True Negatives (TN): {TN}\")\n",
        "print(f\"False Positives (FP): {FP}\")\n",
        "print(f\"False Negatives (FN): {FN}\")\n",
        "\n",
        "# Print the percentages\n",
        "print(f\"True Positive Rate (TPR): {TPR:.2%}\")\n",
        "print(f\"False Positive Rate (FPR): {FPR:.2%}\")\n",
        "print(f\"True Negative Rate (TNR): {TNR:.2%}\")\n",
        "print(f\"False Negative Rate (FNR): {FNR:.2%}\")\n",
        "\n",
        "####Privileged\n",
        "\n",
        "x_test_p = x_test[x_test['race'] >= 1]\n",
        "y_test_p = y_test.reindex(x_test_p.index)\n",
        "y_test_p = y_test_p.dropna()\n",
        "x_test_p = x_test_p.loc[y_test_p.index]\n",
        "if not x_test_p.empty:\n",
        "    y_pred_p = model.predict(x_test_p)\n",
        "    print(\"Privileged Group Metrics:\")\n",
        "    print(\"Accuracy: \", metrics.accuracy_score(y_test_p, y_pred_p))\n",
        "    print(\"Precision: \", metrics.precision_score(y_test_p, y_pred_p))\n",
        "    print(\"Recall: \", metrics.recall_score(y_test_p, y_pred_p))\n",
        "else:\n",
        "    print(\"No samples found for the unprivileged group.\")\n",
        "\n",
        "conf_matrix = confusion_matrix(y_test_p, y_pred_p)\n",
        "\n",
        "# Extract TP, TN, FP, FN\n",
        "TN, FP, FN, TP = conf_matrix.ravel()\n",
        "\n",
        "# Calculate TPR, FPR, TNR, FNR\n",
        "TPR = TP / (TP + FN)  # True Positive Rate (Recall)\n",
        "FPR = FP / (FP + TN)  # False Positive Rate\n",
        "TNR = TN / (TN + FP)  # True Negative Rate\n",
        "FNR = FN / (FN + TP)  # False Negative Rate\n",
        "\n",
        "# Print the counts\n",
        "print(f\"True Positives (TP): {TP}\")\n",
        "print(f\"True Negatives (TN): {TN}\")\n",
        "print(f\"False Positives (FP): {FP}\")\n",
        "print(f\"False Negatives (FN): {FN}\")\n",
        "\n",
        "# Print the percentages\n",
        "print(f\"True Positive Rate (TPR): {TPR:.2%}\")\n",
        "print(f\"False Positive Rate (FPR): {FPR:.2%}\")\n",
        "print(f\"True Negative Rate (TNR): {TNR:.2%}\")\n",
        "print(f\"False Negative Rate (FNR): {FNR:.2%}\")"
      ],
      "metadata": {
        "colab": {
          "base_uri": "https://localhost:8080/"
        },
        "id": "AQvEU2QLaLGC",
        "outputId": "311b024d-9ad6-44ef-d94b-25285bf5b5be"
      },
      "execution_count": null,
      "outputs": [
        {
          "output_type": "stream",
          "name": "stdout",
          "text": [
            "Accuracy:  0.6628175519630485\n",
            "Precision:  0.6566265060240963\n",
            "Recall:  0.6583892617449665\n",
            "True Positives (TP): 981\n",
            "True Negatives (TN): 1028\n",
            "False Positives (FP): 513\n",
            "False Negatives (FN): 509\n",
            "True Positive Rate (TPR): 65.84%\n",
            "False Positive Rate (FPR): 33.29%\n",
            "True Negative Rate (TNR): 66.71%\n",
            "False Negative Rate (FNR): 34.16%\n",
            "Unprivileged Group Metrics:\n",
            "Accuracy:  0.47750865051903113\n",
            "Precision:  0.47530864197530864\n",
            "Recall:  0.5384615384615384\n",
            "True Positives (TP): 77\n",
            "True Negatives (TN): 61\n",
            "False Positives (FP): 85\n",
            "False Negatives (FN): 66\n",
            "True Positive Rate (TPR): 53.85%\n",
            "False Positive Rate (FPR): 58.22%\n",
            "True Negative Rate (TNR): 41.78%\n",
            "False Negative Rate (FNR): 46.15%\n",
            "Privileged Group Metrics:\n",
            "Accuracy:  0.5391304347826087\n",
            "Precision:  0.52\n",
            "Recall:  0.3577981651376147\n",
            "True Positives (TP): 39\n",
            "True Negatives (TN): 85\n",
            "False Positives (FP): 36\n",
            "False Negatives (FN): 70\n",
            "True Positive Rate (TPR): 35.78%\n",
            "False Positive Rate (FPR): 29.75%\n",
            "True Negative Rate (TNR): 70.25%\n",
            "False Negative Rate (FNR): 64.22%\n"
          ]
        }
      ]
    },
    {
      "cell_type": "markdown",
      "source": [
        "Selection Bias"
      ],
      "metadata": {
        "id": "YyGjNLNVXiia"
      }
    },
    {
      "cell_type": "code",
      "source": [
        "mean_priors_count = compas_data_copy['priors_count'].mean()\n",
        "print(mean_priors_count)\n",
        "num_AM_below_mean = compas_data_copy[(compas_data_copy['race'] == 'African-American') & (compas_data_copy['priors_count'] < mean_priors_count)].shape[0]\n",
        "print(f\"Number of African-Americans with low number of prior offenses: {num_AM_below_mean}\")\n",
        "\n",
        "num_cc_below_mean = compas_data_copy[(compas_data_copy['race'] == 'Caucasian') & (compas_data_copy['priors_count'] < mean_priors_count)].shape[0]\n",
        "print(f\"Number of Caucasians with low number of prior offenses: {num_cc_below_mean}\")\n",
        "\n",
        "num_AM_below_mean_recid = compas_data_copy[(compas_data_copy['race'] == 'African-American') & (compas_data_copy['priors_count'] < mean_priors_count) & (compas_data_copy['is_recid']==0)].shape[0]\n",
        "print(f\"Number of African-Americans with low number of prior offenses and accused of no recidivism ': {num_AM_below_mean_recid}\")\n",
        "\n",
        "num_cc_below_mean_recid = compas_data_copy[(compas_data_copy['race'] == 'Caucasian') & (compas_data_copy['priors_count'] < mean_priors_count) & (compas_data_copy['is_recid']==0)].shape[0]\n",
        "print(f\"Number of Caucasians with low number of prior offenses and accused of no recidivism ': {num_cc_below_mean_recid}\")\n",
        "\n",
        "print(num_AM_below_mean_recid/num_AM_below_mean)\n",
        "print(num_cc_below_mean_recid/num_cc_below_mean)\n",
        "print((num_AM_below_mean_recid/num_AM_below_mean)/(num_cc_below_mean_recid/num_cc_below_mean))\n"
      ],
      "metadata": {
        "colab": {
          "base_uri": "https://localhost:8080/"
        },
        "id": "2oVoP-lOXkLZ",
        "outputId": "905b9c13-f2c8-4ddd-d295-f9cc88e2267f"
      },
      "execution_count": null,
      "outputs": [
        {
          "output_type": "stream",
          "name": "stdout",
          "text": [
            "4.355752095571249\n",
            "Number of African-Americans with low number of prior offenses: 5745\n",
            "Number of Caucasians with low number of prior offenses: 4424\n",
            "Number of African-Americans with low number of prior offenses and accused of no recidivism ': 3141\n",
            "Number of Caucasians with low number of prior offenses and accused of no recidivism ': 2777\n",
            "0.5467362924281984\n",
            "0.6277124773960217\n",
            "0.8709979682039432\n"
          ]
        }
      ]
    },
    {
      "cell_type": "markdown",
      "source": [
        "Applying AIF360"
      ],
      "metadata": {
        "id": "Tt5Cfo66PVjb"
      }
    },
    {
      "cell_type": "code",
      "source": [
        "from aif360.datasets import BinaryLabelDataset\n",
        "from aif360.metrics import BinaryLabelDatasetMetric\n",
        "from aif360.algorithms.preprocessing import Reweighing\n",
        "from sklearn import preprocessing\n",
        "import pandas as pd\n",
        "\n",
        "data_encoded = compas_data.copy(deep=True)\n",
        "\n",
        "favorable_label = 1\n",
        "unfavorable_label = 0\n",
        "unprivileged_groups = [{'race': 0}]\n",
        "privileged_groups = [{'race': 1}]\n",
        "\n",
        "compas_dataset = BinaryLabelDataset(\n",
        "    favorable_label=favorable_label,\n",
        "    unfavorable_label=unfavorable_label,\n",
        "    df=data_encoded,\n",
        "    label_names=['is_recid'],\n",
        "    protected_attribute_names=['race']\n",
        ")\n",
        "\n",
        "\n",
        "RW = Reweighing(unprivileged_groups=unprivileged_groups,\n",
        "                privileged_groups=privileged_groups)\n",
        "RW.fit(compas_dataset)\n",
        "train_tf_dataset = RW.transform(compas_dataset)\n",
        "\n",
        "metric_transformed_train = BinaryLabelDatasetMetric(train_tf_dataset,\n",
        "                                                    unprivileged_groups=unprivileged_groups,\n",
        "                                                    privileged_groups=privileged_groups)\n",
        "\n",
        "\n",
        "disparate_impact_ratio = metric_transformed_train.disparate_impact()\n",
        "print(\"Disparate Impact Ratio (after transformation):\", disparate_impact_ratio)\n",
        "\n"
      ],
      "metadata": {
        "colab": {
          "base_uri": "https://localhost:8080/"
        },
        "id": "ZuQvmxh9PXxt",
        "outputId": "74beffd8-5a30-4be7-9231-855db7e9d4e1"
      },
      "execution_count": null,
      "outputs": [
        {
          "output_type": "stream",
          "name": "stdout",
          "text": [
            "Disparate Impact Ratio (after transformation): 1.0000000000000004\n"
          ]
        }
      ]
    },
    {
      "cell_type": "markdown",
      "source": [
        "Model fitting and slicing on transformed data"
      ],
      "metadata": {
        "id": "1d0gIPAJRmFW"
      }
    },
    {
      "cell_type": "code",
      "source": [
        "from sklearn.linear_model import LogisticRegression\n",
        "from sklearn.preprocessing import StandardScaler\n",
        "from sklearn.model_selection import train_test_split\n",
        "import pandas as pd\n",
        "import numpy as np\n",
        "from sklearn import metrics\n",
        "from sklearn.svm import SVC\n",
        "\n",
        "# Assuming `train_tf_dataset` is your transformed dataset\n",
        "transformed = train_tf_dataset.convert_to_dataframe()[0]\n",
        "\n",
        "# Keep 'race' column in x_t for filtering\n",
        "x_t = transformed.drop(['is_recid'], axis=1)  # Do not drop 'race' here\n",
        "y_t = transformed['is_recid']\n",
        "race_t = transformed['race']  # Keep 'race' for filtering\n",
        "\n",
        "# Standardize features (excluding 'race')\n",
        "scaler = StandardScaler()\n",
        "numerical_cols = x_t.select_dtypes(include=['number']).columns\n",
        "x_t[numerical_cols] = scaler.fit_transform(x_t[numerical_cols])\n",
        "\n",
        "# Train-test split\n",
        "x_train_t, x_test_t, y_train_t, y_test_t, race_train_t, race_test_t = train_test_split(\n",
        "    x_t, y_t, race_t, test_size=0.2, random_state=10\n",
        ")  # Include 'race' in the split\n",
        "\n",
        "# Logistic Regression model\n",
        "model = LogisticRegression(solver='liblinear', class_weight='balanced')\n",
        "model.fit(x_train_t.drop('race', axis=1), y_train_t)  # Drop 'race' before fitting\n",
        "y_pred_t = model.predict(x_test_t.drop('race', axis=1))  # Drop 'race' before predicting\n",
        "\n",
        "# Print model evaluation metrics\n",
        "print(\"Accuracy: \", metrics.accuracy_score(y_test_t, y_pred_t))\n",
        "print(\"Precision: \", metrics.precision_score(y_test_t, y_pred_t))\n",
        "print(\"Recall: \", metrics.recall_score(y_test_t, y_pred_t))\n",
        "\n",
        "conf_matrix = confusion_matrix(y_test_t, y_pred_t)\n",
        "\n",
        "# Extract TP, TN, FP, FN\n",
        "TN, FP, FN, TP = conf_matrix.ravel()\n",
        "\n",
        "# Calculate TPR, FPR, TNR, FNR\n",
        "TPR = TP / (TP + FN)  # True Positive Rate (Recall)\n",
        "FPR = FP / (FP + TN)  # False Positive Rate\n",
        "TNR = TN / (TN + FP)  # True Negative Rate\n",
        "FNR = FN / (FN + TP)  # False Negative Rate\n",
        "\n",
        "# Print the counts\n",
        "print(f\"True Positives (TP): {TP}\")\n",
        "print(f\"True Negatives (TN): {TN}\")\n",
        "print(f\"False Positives (FP): {FP}\")\n",
        "print(f\"False Negatives (FN): {FN}\")\n",
        "\n",
        "# Print the percentages\n",
        "print(f\"True Positive Rate (TPR): {TPR:.2%}\")\n",
        "print(f\"False Positive Rate (FPR): {FPR:.2%}\")\n",
        "print(f\"True Negative Rate (TNR): {TNR:.2%}\")\n",
        "print(f\"False Negative Rate (FNR): {FNR:.2%}\")\n",
        "\n",
        "#### Unprivileged\n",
        "\n",
        "# Filter unprivileged group (e.g., 'race' <= 0)\n",
        "x_test_t_up = x_test_t[race_test_t <= 0] # Use race_test_t for filtering\n",
        "y_test_t_up = y_test_t.loc[x_test_t_up.index]\n",
        "x_test_t_up = x_test_t_up.drop('race', axis=1).dropna()  # Drop 'race' after filtering\n",
        "y_test_t_up = y_test_t_up.dropna()\n",
        "\n",
        "# Check if there are samples for the unprivileged group\n",
        "if not x_test_t_up.empty:\n",
        "    y_pred_t_up = model.predict(x_test_t_up)\n",
        "    print(\"Unprivileged Group Metrics:\")\n",
        "    print(\"Accuracy: \", metrics.accuracy_score(y_test_t_up, y_pred_t_up))\n",
        "    print(\"Precision: \", metrics.precision_score(y_test_t_up, y_pred_t_up))\n",
        "    print(\"Recall: \", metrics.recall_score(y_test_t_up, y_pred_t_up))\n",
        "else:\n",
        "    print(\"No samples found for the unprivileged group.\")\n",
        "\n",
        "conf_matrix = confusion_matrix(y_test_t_up, y_pred_t_up)\n",
        "\n",
        "# Extract TP, TN, FP, FN\n",
        "TN, FP, FN, TP = conf_matrix.ravel()\n",
        "\n",
        "# Calculate TPR, FPR, TNR, FNR\n",
        "TPR = TP / (TP + FN)  # True Positive Rate (Recall)\n",
        "FPR = FP / (FP + TN)  # False Positive Rate\n",
        "TNR = TN / (TN + FP)  # True Negative Rate\n",
        "FNR = FN / (FN + TP)  # False Negative Rate\n",
        "\n",
        "# Print the counts\n",
        "print(f\"True Positives (TP): {TP}\")\n",
        "print(f\"True Negatives (TN): {TN}\")\n",
        "print(f\"False Positives (FP): {FP}\")\n",
        "print(f\"False Negatives (FN): {FN}\")\n",
        "\n",
        "# Print the percentages\n",
        "print(f\"True Positive Rate (TPR): {TPR:.2%}\")\n",
        "print(f\"False Positive Rate (FPR): {FPR:.2%}\")\n",
        "print(f\"True Negative Rate (TNR): {TNR:.2%}\")\n",
        "print(f\"False Negative Rate (FNR): {FNR:.2%}\")\n",
        "\n",
        "#### Privileged\n",
        "\n",
        "# Filter privileged group (e.g., 'race' >= 1)\n",
        "x_test_p = x_test_t[race_test_t >= 1]  # Use race_test_t for filtering\n",
        "y_test_p = y_test_t.loc[x_test_p.index]\n",
        "x_test_p = x_test_p.drop('race', axis=1).dropna()  # Drop 'race' after filtering\n",
        "y_test_p = y_test_p.dropna()\n",
        "\n",
        "# Check if there are samples for the privileged group\n",
        "if not x_test_p.empty:\n",
        "    y_pred_p = model.predict(x_test_p)\n",
        "    print(\"Privileged Group Metrics:\")\n",
        "    print(\"Accuracy: \", metrics.accuracy_score(y_test_p, y_pred_p))\n",
        "    print(\"Precision: \", metrics.precision_score(y_test_p, y_pred_p))\n",
        "    print(\"Recall: \", metrics.recall_score(y_test_p, y_pred_p))\n",
        "else:\n",
        "    print(\"No samples found for the privileged group.\")\n",
        "\n",
        "conf_matrix = confusion_matrix(y_test_p, y_pred_p)\n",
        "\n",
        "# Extract TP, TN, FP, FN\n",
        "TN, FP, FN, TP = conf_matrix.ravel()\n",
        "\n",
        "# Calculate TPR, FPR, TNR, FNR\n",
        "TPR = TP / (TP + FN)  # True Positive Rate (Recall)\n",
        "FPR = FP / (FP + TN)  # False Positive Rate\n",
        "TNR = TN / (TN + FP)  # True Negative Rate\n",
        "FNR = FN / (FN + TP)  # False Negative Rate\n",
        "\n",
        "# Print the counts\n",
        "print(f\"True Positives (TP): {TP}\")\n",
        "print(f\"True Negatives (TN): {TN}\")\n",
        "print(f\"False Positives (FP): {FP}\")\n",
        "print(f\"False Negatives (FN): {FN}\")\n",
        "\n",
        "# Print the percentages\n",
        "print(f\"True Positive Rate (TPR): {TPR:.2%}\")\n",
        "print(f\"False Positive Rate (FPR): {FPR:.2%}\")\n",
        "print(f\"True Negative Rate (TNR): {TNR:.2%}\")\n",
        "print(f\"False Negative Rate (FNR): {FNR:.2%}\")\n"
      ],
      "metadata": {
        "colab": {
          "base_uri": "https://localhost:8080/"
        },
        "id": "yctohQ3KNPdf",
        "outputId": "d2f1183e-62fa-4269-a90e-03816fc38f4e"
      },
      "execution_count": null,
      "outputs": [
        {
          "output_type": "stream",
          "name": "stdout",
          "text": [
            "Accuracy:  0.6575387660838007\n",
            "Precision:  0.6489151873767258\n",
            "Recall:  0.6619718309859155\n",
            "True Positives (TP): 987\n",
            "True Negatives (TN): 1006\n",
            "False Positives (FP): 534\n",
            "False Negatives (FN): 504\n",
            "True Positive Rate (TPR): 66.20%\n",
            "False Positive Rate (FPR): 34.68%\n",
            "True Negative Rate (TNR): 65.32%\n",
            "False Negative Rate (FNR): 33.80%\n",
            "Unprivileged Group Metrics:\n",
            "Accuracy:  0.659270998415214\n",
            "Precision:  0.6642468239564429\n",
            "Recall:  0.7269116186693148\n",
            "True Positives (TP): 732\n",
            "True Negatives (TN): 516\n",
            "False Positives (FP): 370\n",
            "False Negatives (FN): 275\n",
            "True Positive Rate (TPR): 72.69%\n",
            "False Positive Rate (FPR): 41.76%\n",
            "True Negative Rate (TNR): 58.24%\n",
            "False Negative Rate (FNR): 27.31%\n",
            "Privileged Group Metrics:\n",
            "Accuracy:  0.6546572934973638\n",
            "Precision:  0.6085918854415274\n",
            "Recall:  0.5268595041322314\n",
            "True Positives (TP): 255\n",
            "True Negatives (TN): 490\n",
            "False Positives (FP): 164\n",
            "False Negatives (FN): 229\n",
            "True Positive Rate (TPR): 52.69%\n",
            "False Positive Rate (FPR): 25.08%\n",
            "True Negative Rate (TNR): 74.92%\n",
            "False Negative Rate (FNR): 47.31%\n"
          ]
        }
      ]
    }
  ],
  "metadata": {
    "kernelspec": {
      "display_name": "Python 3",
      "name": "python3"
    },
    "language_info": {
      "codemirror_mode": {
        "name": "ipython",
        "version": 3
      },
      "file_extension": ".py",
      "mimetype": "text/x-python",
      "name": "python",
      "nbconvert_exporter": "python",
      "pygments_lexer": "ipython3",
      "version": "3.8.12"
    },
    "colab": {
      "provenance": [],
      "include_colab_link": true
    }
  },
  "nbformat": 4,
  "nbformat_minor": 0
}